{
 "cells": [
  {
   "cell_type": "markdown",
   "metadata": {},
   "source": [
    "# Model Training\n",
    "\n",
    "The EDA on our raw dataset showed we need to take some few simple steps to get it ready for modelling. We will start with those steps before getting on with building our multiclass classifier."
   ]
  },
  {
   "cell_type": "markdown",
   "metadata": {},
   "source": [
    "## 1.0 Import Libraries\n",
    "The relevant libraries are imported. There are some nltk downloads that are only required when running this notebook for the first time. Subsequents runs do not require these downloads."
   ]
  },
  {
   "cell_type": "code",
   "execution_count": 1,
   "metadata": {},
   "outputs": [],
   "source": [
    "import os\n",
    "\n",
    "import warnings\n",
    "warnings.filterwarnings('ignore')\n",
    "\n",
    "import pandas as pd\n",
    "\n",
    "from sklearn.model_selection import train_test_split\n",
    "from sklearn.feature_extraction.text import CountVectorizer, TfidfTransformer\n",
    "from sklearn.pipeline import Pipeline\n",
    "from sklearn.linear_model import LogisticRegression\n",
    "from xgboost import XGBClassifier\n",
    "from sklearn.metrics import accuracy_score, f1_score, classification_report, confusion_matrix\n",
    "\n",
    "import config \n",
    "\n",
    "import matplotlib.pyplot as plt\n",
    "import seaborn as sns\n",
    "from matplotlib.ticker import StrMethodFormatter\n",
    "\n",
    "import pickle\n",
    "\n",
    "import pipeline_config as pc\n",
    "import model_training_utils as mtu\n",
    "\n"
   ]
  },
  {
   "cell_type": "markdown",
   "metadata": {},
   "source": [
    "## 2.0 Preparing the data\n",
    "The dataset is loaded from the file. The duplicates in the dataset are dropped, the names of the colums and the categories in the target column are modified for convenience. The name of one of the states and one of the categories that used an incorrect letter case were modified to reflect the correct case. Though it was not done during the EDA because it was not affecting the analysis, the descriptions of the complaints were sliced to remove the comments from FCC (a regulatory body)."
   ]
  },
  {
   "cell_type": "code",
   "execution_count": 2,
   "metadata": {},
   "outputs": [
    {
     "name": "stdout",
     "output_type": "stream",
     "text": [
      "loading dataset...\n"
     ]
    }
   ],
   "source": [
    "#loading the dataset\n",
    "print ('loading dataset...')\n",
    "data = pd.read_csv('datasets/ComCast_FCC.csv')"
   ]
  },
  {
   "cell_type": "code",
   "execution_count": 3,
   "metadata": {},
   "outputs": [],
   "source": [
    "# #dropping the duplicates in the dataset\n",
    "# primary_data = pd.DataFrame(data)\n",
    "# primary_data = primary_data.drop_duplicates(keep='first')\n",
    "# print(primary_data.shape)\n",
    "# primary_data.head()"
   ]
  },
  {
   "cell_type": "code",
   "execution_count": 4,
   "metadata": {},
   "outputs": [],
   "source": [
    "# #modifying the names of the columns\n",
    "# primary_data.rename(columns = config.MODIFY_CLASSES, inplace = True)"
   ]
  },
  {
   "cell_type": "code",
   "execution_count": 5,
   "metadata": {},
   "outputs": [],
   "source": [
    "# #modifying the categories and correcting the incorrect leter case\n",
    "# primary_data['category'] = primary_data['category'].replace(config.REPLACE_CLASSES)"
   ]
  },
  {
   "cell_type": "code",
   "execution_count": 6,
   "metadata": {},
   "outputs": [],
   "source": [
    "# #using the correct letter case\n",
    "# primary_data['state'] = primary_data['state'].replace('District of Columbia', 'District Of Columbia')"
   ]
  },
  {
   "cell_type": "code",
   "execution_count": 7,
   "metadata": {},
   "outputs": [],
   "source": [
    "# # split the descriptions on the dashes to extract the comments from FCC\n",
    "# primary_data[[\"description\", \"remainder\"]] = primary_data[\"description\"].str.split(\n",
    "#                                             \"- - - - - - - - - - - - - - - - - - - - -\",\n",
    "#                                             n=1,expand=True)"
   ]
  },
  {
   "cell_type": "code",
   "execution_count": 8,
   "metadata": {},
   "outputs": [],
   "source": [
    "primary_data = mtu.PrepareData(data).drop_duplicates()\n",
    "primary_data = mtu.PrepareData(primary_data).modify()\n",
    "primary_data = mtu.PrepareData(primary_data).extract()"
   ]
  },
  {
   "cell_type": "markdown",
   "metadata": {},
   "source": [
    "## 3.0 Modelling\n",
    "\n",
    "### Train Test Split\n",
    "The train test split was doing using the scikit learn standard test train split function. The train set size is 80%. Since the modelling will use gridsearchCV to find the best parameters, a validation set was not absolutely necessary so it was not factored in the split. The target variable is the 'category' column, the other features are the input variables.\n"
   ]
  },
  {
   "cell_type": "code",
   "execution_count": 9,
   "metadata": {},
   "outputs": [],
   "source": [
    "#input and target variables\n",
    "input_features = primary_data.drop(columns = 'category')\n",
    "y = primary_data.category"
   ]
  },
  {
   "cell_type": "code",
   "execution_count": 10,
   "metadata": {},
   "outputs": [
    {
     "data": {
      "text/plain": [
       "((2208, 7), (2208,))"
      ]
     },
     "execution_count": 10,
     "metadata": {},
     "output_type": "execute_result"
    }
   ],
   "source": [
    "#size of the variables\n",
    "input_features.shape, y.shape"
   ]
  },
  {
   "cell_type": "markdown",
   "metadata": {},
   "source": [
    "We need only the 'description' column of the input features, the other features will not be useful for model training so we will extract only the relevant column for model training."
   ]
  },
  {
   "cell_type": "code",
   "execution_count": 11,
   "metadata": {},
   "outputs": [
    {
     "data": {
      "text/plain": [
       "((1766,), (442,), (1766,), (442,))"
      ]
     },
     "execution_count": 11,
     "metadata": {},
     "output_type": "execute_result"
    }
   ],
   "source": [
    "#train test split\n",
    "input_features_train, input_features_test, y_train, y_test = train_test_split(input_features, y, test_size=0.2, random_state=16)\n",
    "X_train = input_features_train.description\n",
    "X_test = input_features_test.description\n",
    "X_train.shape, X_test.shape, y_train.shape, y_test.shape,"
   ]
  },
  {
   "cell_type": "markdown",
   "metadata": {},
   "source": [
    "### Model Training and Evaluation\n",
    "The classifiers used in the modelling include:\n",
    "-   Dummy Classifier: used to establish the base case\n",
    "-   MultinimialNB, MNB\n",
    "-   Randomforest, RFC\n",
    "-   SupportVectorMachine, SVM\n",
    "-   ExtraTreeClassifier, XTC\n",
    "-   GradientBoostingClassifier, GBC\n",
    "-   BaggingClassifier, BGC\n",
    "-   XGBClassifier, XGB\n",
    "-   LogisticRegression, LGR\n",
    "\n",
    "The gridsearchCV was only done on the XGB and the LGR. The best parameters for each algorithm are used to train a model and the model with the best f1 score is chosen as the best performing model.\n",
    "\n",
    "The metrics for evaluation are accuracy, weighted f1 score and macro f1 score.\n",
    "\n",
    "The models will be trained with feature extraction processes from scikit learn - CountVectorizer and TF-idf. There will be two batches of model training. First will be with CountVectorizer and TF-idf, the next will have some feature engineering from the nltk library."
   ]
  },
  {
   "cell_type": "code",
   "execution_count": 12,
   "metadata": {},
   "outputs": [
    {
     "data": {
      "text/html": [
       "<div>\n",
       "<style scoped>\n",
       "    .dataframe tbody tr th:only-of-type {\n",
       "        vertical-align: middle;\n",
       "    }\n",
       "\n",
       "    .dataframe tbody tr th {\n",
       "        vertical-align: top;\n",
       "    }\n",
       "\n",
       "    .dataframe thead th {\n",
       "        text-align: right;\n",
       "    }\n",
       "</style>\n",
       "<table border=\"1\" class=\"dataframe\">\n",
       "  <thead>\n",
       "    <tr style=\"text-align: right;\">\n",
       "      <th></th>\n",
       "      <th>classifier</th>\n",
       "      <th>accuracy</th>\n",
       "      <th>micro_f1</th>\n",
       "      <th>weighted_f1</th>\n",
       "      <th>macro_f1</th>\n",
       "    </tr>\n",
       "  </thead>\n",
       "  <tbody>\n",
       "    <tr>\n",
       "      <th>0</th>\n",
       "      <td>dummy</td>\n",
       "      <td>0.386878</td>\n",
       "      <td>0.386878</td>\n",
       "      <td>0.215844</td>\n",
       "      <td>0.111582</td>\n",
       "    </tr>\n",
       "    <tr>\n",
       "      <th>1</th>\n",
       "      <td>MNB</td>\n",
       "      <td>0.488688</td>\n",
       "      <td>0.488688</td>\n",
       "      <td>0.389033</td>\n",
       "      <td>0.290649</td>\n",
       "    </tr>\n",
       "    <tr>\n",
       "      <th>2</th>\n",
       "      <td>BGC</td>\n",
       "      <td>0.619910</td>\n",
       "      <td>0.619910</td>\n",
       "      <td>0.604388</td>\n",
       "      <td>0.573869</td>\n",
       "    </tr>\n",
       "    <tr>\n",
       "      <th>3</th>\n",
       "      <td>XTC</td>\n",
       "      <td>0.660633</td>\n",
       "      <td>0.660633</td>\n",
       "      <td>0.632979</td>\n",
       "      <td>0.602372</td>\n",
       "    </tr>\n",
       "    <tr>\n",
       "      <th>4</th>\n",
       "      <td>RFC</td>\n",
       "      <td>0.683258</td>\n",
       "      <td>0.683258</td>\n",
       "      <td>0.656779</td>\n",
       "      <td>0.629311</td>\n",
       "    </tr>\n",
       "    <tr>\n",
       "      <th>5</th>\n",
       "      <td>SVM</td>\n",
       "      <td>0.696833</td>\n",
       "      <td>0.696833</td>\n",
       "      <td>0.692081</td>\n",
       "      <td>0.656526</td>\n",
       "    </tr>\n",
       "    <tr>\n",
       "      <th>6</th>\n",
       "      <td>GBC</td>\n",
       "      <td>0.703620</td>\n",
       "      <td>0.703620</td>\n",
       "      <td>0.694426</td>\n",
       "      <td>0.667811</td>\n",
       "    </tr>\n",
       "    <tr>\n",
       "      <th>7</th>\n",
       "      <td>XGB</td>\n",
       "      <td>0.719457</td>\n",
       "      <td>0.719457</td>\n",
       "      <td>0.711486</td>\n",
       "      <td>0.683836</td>\n",
       "    </tr>\n",
       "    <tr>\n",
       "      <th>8</th>\n",
       "      <td>LGR</td>\n",
       "      <td>0.737557</td>\n",
       "      <td>0.737557</td>\n",
       "      <td>0.724880</td>\n",
       "      <td>0.684095</td>\n",
       "    </tr>\n",
       "  </tbody>\n",
       "</table>\n",
       "</div>"
      ],
      "text/plain": [
       "  classifier  accuracy  micro_f1  weighted_f1  macro_f1\n",
       "0      dummy  0.386878  0.386878     0.215844  0.111582\n",
       "1        MNB  0.488688  0.488688     0.389033  0.290649\n",
       "2        BGC  0.619910  0.619910     0.604388  0.573869\n",
       "3        XTC  0.660633  0.660633     0.632979  0.602372\n",
       "4        RFC  0.683258  0.683258     0.656779  0.629311\n",
       "5        SVM  0.696833  0.696833     0.692081  0.656526\n",
       "6        GBC  0.703620  0.703620     0.694426  0.667811\n",
       "7        XGB  0.719457  0.719457     0.711486  0.683836\n",
       "8        LGR  0.737557  0.737557     0.724880  0.684095"
      ]
     },
     "execution_count": 12,
     "metadata": {},
     "output_type": "execute_result"
    }
   ],
   "source": [
    "#default parameters\n",
    "model_metrics = mtu.model_metrics(pc.CLASSIFIERS, X_train, X_test, y_train, y_test)\n",
    "model_metrics"
   ]
  },
  {
   "cell_type": "markdown",
   "metadata": {},
   "source": [
    "The gridsearch CV is applied to XGB and LGR to find the best parameters. These parameters are then used to train models and their performances measured aginst the performance of the model with default parameters.\n",
    "\n",
    "Note: It takes a LONG time running these gridsearchCV."
   ]
  },
  {
   "cell_type": "code",
   "execution_count": null,
   "metadata": {},
   "outputs": [],
   "source": [
    "#grid search XGB pipeline\n",
    "# parameters = pc.XGB_PARAMETERS\n",
    "\n",
    "# cv = pc.CV\n",
    "\n",
    "# gs_xgb_clf = GridSearchCV(pc.XGB_CLF, parameters, cv=cv, verbose=True)\n",
    "\n",
    "# gs_xgb_clf.fit(X_train, y_train)\n",
    "\n",
    "# # gs_svm_clf_pred = gs_svm_clf.predict(X_test)\n",
    "\n",
    "# best_parameters = gs_xgb_clf.best_estimator_.get_params()\n",
    "# for param_name in sorted(parameters.keys()):\n",
    "#         print(\"\\t%s: %r\" % (param_name, best_parameters[param_name]))"
   ]
  },
  {
   "cell_type": "code",
   "execution_count": null,
   "metadata": {},
   "outputs": [
    {
     "name": "stdout",
     "output_type": "stream",
     "text": [
      "0.7036199095022625 0.6698145154199431\n"
     ]
    }
   ],
   "source": [
    "#define a XGB pipeline using result from grid search\n",
    "from xgboost import XGBClassifier\n",
    "xgb_clf_grid = Pipeline([\n",
    "                ('vect', CountVectorizer(ngram_range = (1, 1))),\n",
    "                ('tfidf', TfidfTransformer(use_idf = True)), \n",
    "                ('clf', XGBClassifier(n_estimators= 150,\n",
    "                subsample= 0.9,\n",
    "                gamma= 0.25,\n",
    "                learning_rate= 0.20, \n",
    "                max_depth= 6,\n",
    "                objective='logistic'))\n",
    "])\n",
    "\n",
    "#fit XGB pipeline\n",
    "xgb_clf_grid.fit(X_train, y_train)\n",
    "\n",
    "#evaluate XGB pipeline\n",
    "xgb_pipeline_pred_grid  = xgb_clf_grid.predict(X_test)\n",
    "acc_score_xgb_grid_pipeline = accuracy_score(y_test, xgb_pipeline_pred_grid )\n",
    "F1_score_macro_xgb_grid_pipeline = f1_score(y_test, xgb_pipeline_pred_grid, average = 'macro')\n",
    "print(acc_score_xgb_grid_pipeline, F1_score_macro_xgb_grid_pipeline)"
   ]
  },
  {
   "cell_type": "code",
   "execution_count": null,
   "metadata": {},
   "outputs": [],
   "source": [
    "#grid search LGR pipeline\n",
    "# parameters = pc.LGR_PARAMETERS\n",
    "\n",
    "# cv = pc.CV\n",
    "\n",
    "# gs_lgr_clf = GridSearchCV(pc.LGR_CLF, parameters, cv=cv, verbose=True)\n",
    "\n",
    "# gs_lgr_clf.fit(X_train, y_train)\n",
    "\n",
    "# # gs_xtc_clf_pred = gs_xtc_clf.predict(X_test)\n",
    "\n",
    "# best_parameters = gs_lgr_clf.best_estimator_.get_params()\n",
    "# for param_name in sorted(parameters.keys()):\n",
    "#         print(\"\\t%s: %r\" % (param_name, best_parameters[param_name]))"
   ]
  },
  {
   "cell_type": "code",
   "execution_count": null,
   "metadata": {},
   "outputs": [
    {
     "name": "stdout",
     "output_type": "stream",
     "text": [
      "0.7375565610859729 0.6840948368206813\n"
     ]
    }
   ],
   "source": [
    "#define a LGR pipeline using result from grid search\n",
    "lgr_clf_grid = Pipeline([\n",
    "        ('vect', CountVectorizer(ngram_range = (1, 1))),\n",
    "        ('tfidf', TfidfTransformer(use_idf = True)),\n",
    "         ('clf', LogisticRegression(multi_class = 'multinomial',\n",
    "                                max_iter = 200,\n",
    "                                penalty = 'l2',)),\n",
    "])\n",
    "\n",
    "#fit LGR pipeline\n",
    "lgr_clf_grid.fit(X_train, y_train)\n",
    "\n",
    "#evaluate LGR pipeline\n",
    "lgr_pipeline_pred_grid  = lgr_clf_grid.predict(X_test)\n",
    "acc_score_lgr_grid_pipeline = accuracy_score(y_test, lgr_pipeline_pred_grid )\n",
    "F1_score_macro_lgr_grid_pipeline = f1_score(y_test, lgr_pipeline_pred_grid, average = 'macro')\n",
    "print(acc_score_lgr_grid_pipeline, F1_score_macro_lgr_grid_pipeline)"
   ]
  },
  {
   "cell_type": "markdown",
   "metadata": {},
   "source": [
    "The results from training the models with the best parameters indicate that the models with default parameters have a better performance. Going forward the models will be trained on default parameters."
   ]
  },
  {
   "cell_type": "markdown",
   "metadata": {},
   "source": [
    "### NLTK\n",
    "Let's use the nltk library to build the model with the hope of achieving a better model performance. We tokenize, remove stopwords, and lemmatize the input variables. Then we use a pipeline to train and fit a model."
   ]
  },
  {
   "cell_type": "code",
   "execution_count": null,
   "metadata": {},
   "outputs": [
    {
     "name": "stdout",
     "output_type": "stream",
     "text": [
      "['XGB_nltk', 0.7217194570135747, 0.7217194570135745, 0.7158928860046111, 0.6926178545099183]\n"
     ]
    }
   ],
   "source": [
    "#define a XGB pipeline using result from grid search\n",
    "xgb_clf_nltk = Pipeline([\n",
    "            ('text', pc.PROCESS_TEXT),\n",
    "          ('vect', CountVectorizer(ngram_range = (1, 1))),\n",
    "        ('tfidf', TfidfTransformer(use_idf = True)),\n",
    "         ('clf', XGBClassifier()),\n",
    "])\n",
    "\n",
    "xgb_clf_nltk.fit(X_train, y_train)\n",
    "\n",
    "xgb_nltk_pipeline_pred = xgb_clf_nltk.predict(X_test)\n",
    "acc_score_xgb_nltk_pipeline = accuracy_score(y_test, xgb_nltk_pipeline_pred)\n",
    "F1_score_micro_xgb_nltk_pipeline = f1_score(y_test, xgb_nltk_pipeline_pred, average = 'micro')\n",
    "F1_score_weighted_xgb_nltk_pipeline = f1_score(y_test, xgb_nltk_pipeline_pred, average = 'weighted')\n",
    "F1_score_macro_xgb_nltk_pipeline = f1_score(y_test, xgb_nltk_pipeline_pred, average = 'macro')\n",
    "metrics_xgb_nltk = ['XGB_nltk', acc_score_xgb_nltk_pipeline, F1_score_micro_xgb_nltk_pipeline, \n",
    "                    F1_score_weighted_xgb_nltk_pipeline, F1_score_macro_xgb_nltk_pipeline]\n",
    "print(metrics_xgb_nltk)"
   ]
  },
  {
   "cell_type": "code",
   "execution_count": null,
   "metadata": {},
   "outputs": [
    {
     "name": "stdout",
     "output_type": "stream",
     "text": [
      "['LGR_nltk', 0.7420814479638009, 0.7420814479638009, 0.7323978758774842, 0.7002275106881226]\n"
     ]
    }
   ],
   "source": [
    "#LGR pipeline using result from grid search\n",
    "lgr_clf_nltk = Pipeline([\n",
    "        ('text', pc.PROCESS_TEXT),\n",
    "        ('vect', CountVectorizer()),\n",
    "        ('tfidf', TfidfTransformer()),\n",
    "         ('clf', LogisticRegression()),\n",
    "])\n",
    "\n",
    "lgr_clf_nltk.fit(X_train, y_train)\n",
    "\n",
    "lgr_clf_nltk_pred = lgr_clf_nltk.predict(X_test)\n",
    "acc_score_lgr_nltk_pipeline = accuracy_score(y_test, lgr_clf_nltk_pred)\n",
    "F1_score_micro_lgr_nltk_pipeline = f1_score(y_test, lgr_clf_nltk_pred, average = 'micro')\n",
    "F1_score_weighted_lgr_nltk_pipeline = f1_score(y_test, lgr_clf_nltk_pred, average = 'weighted')\n",
    "F1_score_macro_lgr_nltk_pipeline = f1_score(y_test, lgr_clf_nltk_pred, average = 'macro')\n",
    "metrics_lgr_nltk = ['LGR_nltk', acc_score_lgr_nltk_pipeline, F1_score_micro_lgr_nltk_pipeline, \n",
    "                    F1_score_weighted_lgr_nltk_pipeline, F1_score_macro_lgr_nltk_pipeline]\n",
    "print(metrics_lgr_nltk)"
   ]
  },
  {
   "cell_type": "markdown",
   "metadata": {},
   "source": [
    "The performance for the models using the nltk library did not show any significant improvement in model performance when compared against the initial models."
   ]
  },
  {
   "cell_type": "code",
   "execution_count": null,
   "metadata": {},
   "outputs": [
    {
     "data": {
      "text/html": [
       "<div>\n",
       "<style scoped>\n",
       "    .dataframe tbody tr th:only-of-type {\n",
       "        vertical-align: middle;\n",
       "    }\n",
       "\n",
       "    .dataframe tbody tr th {\n",
       "        vertical-align: top;\n",
       "    }\n",
       "\n",
       "    .dataframe thead th {\n",
       "        text-align: right;\n",
       "    }\n",
       "</style>\n",
       "<table border=\"1\" class=\"dataframe\">\n",
       "  <thead>\n",
       "    <tr style=\"text-align: right;\">\n",
       "      <th></th>\n",
       "      <th>classifier</th>\n",
       "      <th>accuracy</th>\n",
       "      <th>micro_f1</th>\n",
       "      <th>weighted_f1</th>\n",
       "      <th>macro_f1</th>\n",
       "    </tr>\n",
       "  </thead>\n",
       "  <tbody>\n",
       "    <tr>\n",
       "      <th>0</th>\n",
       "      <td>dummy</td>\n",
       "      <td>0.386878</td>\n",
       "      <td>0.386878</td>\n",
       "      <td>0.215844</td>\n",
       "      <td>0.111582</td>\n",
       "    </tr>\n",
       "    <tr>\n",
       "      <th>1</th>\n",
       "      <td>MNB</td>\n",
       "      <td>0.488688</td>\n",
       "      <td>0.488688</td>\n",
       "      <td>0.389033</td>\n",
       "      <td>0.290649</td>\n",
       "    </tr>\n",
       "    <tr>\n",
       "      <th>2</th>\n",
       "      <td>BGC</td>\n",
       "      <td>0.619910</td>\n",
       "      <td>0.619910</td>\n",
       "      <td>0.604388</td>\n",
       "      <td>0.573869</td>\n",
       "    </tr>\n",
       "    <tr>\n",
       "      <th>3</th>\n",
       "      <td>XTC</td>\n",
       "      <td>0.660633</td>\n",
       "      <td>0.660633</td>\n",
       "      <td>0.632979</td>\n",
       "      <td>0.602372</td>\n",
       "    </tr>\n",
       "    <tr>\n",
       "      <th>4</th>\n",
       "      <td>RFC</td>\n",
       "      <td>0.683258</td>\n",
       "      <td>0.683258</td>\n",
       "      <td>0.656779</td>\n",
       "      <td>0.629311</td>\n",
       "    </tr>\n",
       "    <tr>\n",
       "      <th>5</th>\n",
       "      <td>SVM</td>\n",
       "      <td>0.696833</td>\n",
       "      <td>0.696833</td>\n",
       "      <td>0.692081</td>\n",
       "      <td>0.656526</td>\n",
       "    </tr>\n",
       "    <tr>\n",
       "      <th>6</th>\n",
       "      <td>GBC</td>\n",
       "      <td>0.703620</td>\n",
       "      <td>0.703620</td>\n",
       "      <td>0.694426</td>\n",
       "      <td>0.667811</td>\n",
       "    </tr>\n",
       "    <tr>\n",
       "      <th>7</th>\n",
       "      <td>XGB</td>\n",
       "      <td>0.719457</td>\n",
       "      <td>0.719457</td>\n",
       "      <td>0.711486</td>\n",
       "      <td>0.683836</td>\n",
       "    </tr>\n",
       "    <tr>\n",
       "      <th>8</th>\n",
       "      <td>LGR</td>\n",
       "      <td>0.737557</td>\n",
       "      <td>0.737557</td>\n",
       "      <td>0.724880</td>\n",
       "      <td>0.684095</td>\n",
       "    </tr>\n",
       "    <tr>\n",
       "      <th>9</th>\n",
       "      <td>XGB_nltk</td>\n",
       "      <td>0.721719</td>\n",
       "      <td>0.721719</td>\n",
       "      <td>0.715893</td>\n",
       "      <td>0.692618</td>\n",
       "    </tr>\n",
       "    <tr>\n",
       "      <th>10</th>\n",
       "      <td>LGR_nltk</td>\n",
       "      <td>0.742081</td>\n",
       "      <td>0.742081</td>\n",
       "      <td>0.732398</td>\n",
       "      <td>0.700228</td>\n",
       "    </tr>\n",
       "  </tbody>\n",
       "</table>\n",
       "</div>"
      ],
      "text/plain": [
       "   classifier  accuracy  micro_f1  weighted_f1  macro_f1\n",
       "0       dummy  0.386878  0.386878     0.215844  0.111582\n",
       "1         MNB  0.488688  0.488688     0.389033  0.290649\n",
       "2         BGC  0.619910  0.619910     0.604388  0.573869\n",
       "3         XTC  0.660633  0.660633     0.632979  0.602372\n",
       "4         RFC  0.683258  0.683258     0.656779  0.629311\n",
       "5         SVM  0.696833  0.696833     0.692081  0.656526\n",
       "6         GBC  0.703620  0.703620     0.694426  0.667811\n",
       "7         XGB  0.719457  0.719457     0.711486  0.683836\n",
       "8         LGR  0.737557  0.737557     0.724880  0.684095\n",
       "9    XGB_nltk  0.721719  0.721719     0.715893  0.692618\n",
       "10   LGR_nltk  0.742081  0.742081     0.732398  0.700228"
      ]
     },
     "execution_count": 18,
     "metadata": {},
     "output_type": "execute_result"
    }
   ],
   "source": [
    "model_metrics.loc[len(model_metrics.index)] = metrics_xgb_nltk\n",
    "model_metrics.loc[len(model_metrics.index)] = metrics_lgr_nltk\n",
    "model_metrics"
   ]
  },
  {
   "cell_type": "markdown",
   "metadata": {},
   "source": [
    "## Journey Map\n",
    "A plot of the model performances of the various models."
   ]
  },
  {
   "cell_type": "code",
   "execution_count": null,
   "metadata": {},
   "outputs": [
    {
     "data": {
      "text/plain": [
       "<function matplotlib.pyplot.show(close=None, block=None)>"
      ]
     },
     "execution_count": 19,
     "metadata": {},
     "output_type": "execute_result"
    },
    {
     "data": {
      "image/png": "[encoded data removed]",
      "text/plain": [
       "<Figure size 720x432 with 1 Axes>"
      ]
     },
     "metadata": {
      "needs_background": "light"
     },
     "output_type": "display_data"
    }
   ],
   "source": [
    "plt.figure(figsize=(10,6))\n",
    "metrics = ['accuracy', 'weighted_f1', 'macro_f1']\n",
    "for metric in metrics:\n",
    "    sns.lineplot(data=model_metrics,\n",
    "        x='classifier',  y=metric,\n",
    "        marker='o', markersize=10,\n",
    "    )\n",
    "plt.gcf().axes[0].yaxis.set_major_formatter(StrMethodFormatter('{x:.0%}'))\n",
    "plt.legend(title='Accuracy Measure', labels = metrics, loc='upper left')\n",
    "plt.savefig('image_files/Performance Metrics for Classifiers')\n",
    "plt.title('Performance Metrics for Classifiers', fontsize=12, fontweight='bold')\n",
    "plt.tight_layout()\n",
    "plt.show"
   ]
  },
  {
   "cell_type": "markdown",
   "metadata": {},
   "source": [
    "## 4.0 Model Selection"
   ]
  },
  {
   "cell_type": "markdown",
   "metadata": {},
   "source": [
    "LogisticRegression shows the best performance on the three evaluation metrics so it is selected as the best model. Since the nltk did not bring any significant improvement in model performance as did the best parameters from the gridsearchCV results, the LGR model will be trained on default parameters and the sk-learn feature extraction.\n",
    "\n",
    "The model is saved as a pickle file and can be loaded for making predictions on new customer complaints."
   ]
  },
  {
   "cell_type": "code",
   "execution_count": null,
   "metadata": {},
   "outputs": [
    {
     "data": {
      "text/plain": [
       "Pipeline(steps=[('vect', CountVectorizer()), ('tfidf', TfidfTransformer()),\n",
       "                ('clf', LogisticRegression(random_state=1607))])"
      ]
     },
     "execution_count": 20,
     "metadata": {},
     "output_type": "execute_result"
    }
   ],
   "source": [
    "#train selected model\n",
    "model = pc.LGR_CLF\n",
    "model.fit(X_train, y_train)"
   ]
  },
  {
   "cell_type": "code",
   "execution_count": null,
   "metadata": {},
   "outputs": [],
   "source": [
    "#save model as a pickle file\n",
    "with open('lgr_model.pkl', 'wb') as file:\n",
    "     pickle.dump(model, file)"
   ]
  },
  {
   "cell_type": "markdown",
   "metadata": {},
   "source": [
    "## 5.0 Model Evaluation\n",
    "Use classification report and confusion matrix to show the model performance of our selected model."
   ]
  },
  {
   "cell_type": "code",
   "execution_count": null,
   "metadata": {},
   "outputs": [],
   "source": [
    "#load model from pickle file\n",
    "with open('lgr_model.pkl', 'rb') as file:\n",
    "    loaded_model = pickle.load(file)"
   ]
  },
  {
   "cell_type": "code",
   "execution_count": null,
   "metadata": {},
   "outputs": [],
   "source": [
    "#use loaded model to make predictions\n",
    "predictions = loaded_model.predict(X_test)"
   ]
  },
  {
   "cell_type": "code",
   "execution_count": null,
   "metadata": {},
   "outputs": [
    {
     "name": "stdout",
     "output_type": "stream",
     "text": [
      "                       precision    recall  f1-score   support\n",
      "\n",
      "             Billings       0.72      0.88      0.79       171\n",
      "    Internet Problems       0.79      0.81      0.80       124\n",
      "Poor Customer Service       0.64      0.44      0.52        79\n",
      "            Data Caps       0.72      0.81      0.76        36\n",
      "                Other       1.00      0.38      0.55        32\n",
      "\n",
      "             accuracy                           0.74       442\n",
      "            macro avg       0.77      0.66      0.68       442\n",
      "         weighted avg       0.75      0.74      0.72       442\n",
      "\n"
     ]
    }
   ],
   "source": [
    "target_names = ['Billings', 'Internet Problems', 'Poor Customer Service', 'Data Caps', 'Other']\n",
    "print(classification_report(y_test, predictions, target_names=target_names))"
   ]
  },
  {
   "cell_type": "code",
   "execution_count": null,
   "metadata": {},
   "outputs": [
    {
     "data": {
      "text/plain": [
       "<function matplotlib.pyplot.show(close=None, block=None)>"
      ]
     },
     "execution_count": 25,
     "metadata": {},
     "output_type": "execute_result"
    },
    {
     "data": {
      "image/png": "[encoded data removed]",
      "text/plain": [
       "<Figure size 720x504 with 2 Axes>"
      ]
     },
     "metadata": {},
     "output_type": "display_data"
    }
   ],
   "source": [
    "#confusion matrix plot\n",
    "data = confusion_matrix(y_test, predictions)\n",
    "df_cm = pd.DataFrame(data, columns=target_names, index = target_names)\n",
    "df_cm.index.name = 'Actual class'\n",
    "df_cm.columns.name = 'Predicted class'\n",
    "# plt.figure(figsize = (10,7))\n",
    "sns.set(font_scale=1.4)\n",
    "# sns.heatmap(df_cm, cmap=\"Blues\", annot=True, fmt='d', annot_kws={\"size\":16})\n",
    "fig, ax = plt.subplots(figsize=(10,7))\n",
    "plt.title('Confusion Matrix for LogisticRegression Model', fontsize=20, fontweight='bold')\n",
    "sns.heatmap(df_cm, cmap='Blues', linewidths=1, annot=True, ax=ax, fmt='g')\n",
    "plt.show"
   ]
  },
  {
   "cell_type": "markdown",
   "metadata": {},
   "source": [
    "## 6.0 Dashboard\n",
    "The predictions are merged to the corresponding input variables. The outcome can be saved into a csv file and used to create a dashboard."
   ]
  },
  {
   "cell_type": "code",
   "execution_count": null,
   "metadata": {},
   "outputs": [],
   "source": [
    "#merge predictions to the corresponding input variables\n",
    "predictions_df = pd.DataFrame(input_features_test)\n",
    "predictions_df['predictions'] = predictions"
   ]
  },
  {
   "cell_type": "code",
   "execution_count": null,
   "metadata": {},
   "outputs": [
    {
     "data": {
      "text/html": [
       "<div>\n",
       "<style scoped>\n",
       "    .dataframe tbody tr th:only-of-type {\n",
       "        vertical-align: middle;\n",
       "    }\n",
       "\n",
       "    .dataframe tbody tr th {\n",
       "        vertical-align: top;\n",
       "    }\n",
       "\n",
       "    .dataframe thead th {\n",
       "        text-align: right;\n",
       "    }\n",
       "</style>\n",
       "<table border=\"1\" class=\"dataframe\">\n",
       "  <thead>\n",
       "    <tr style=\"text-align: right;\">\n",
       "      <th></th>\n",
       "      <th>customer_complaint</th>\n",
       "      <th>date</th>\n",
       "      <th>city</th>\n",
       "      <th>state</th>\n",
       "      <th>zip_code</th>\n",
       "      <th>description</th>\n",
       "      <th>remainder</th>\n",
       "      <th>predictions</th>\n",
       "    </tr>\n",
       "  </thead>\n",
       "  <tbody>\n",
       "    <tr>\n",
       "      <th>0</th>\n",
       "      <td>Comcast Internet</td>\n",
       "      <td>2015-06-07</td>\n",
       "      <td>Charleston</td>\n",
       "      <td>South Carolina</td>\n",
       "      <td>48230</td>\n",
       "      <td>Our house has not one but two comcast internet...</td>\n",
       "      <td>\\n Follow-up message by FCC on 6/8/2015 3:50:3...</td>\n",
       "      <td>Internet Problems</td>\n",
       "    </tr>\n",
       "    <tr>\n",
       "      <th>1</th>\n",
       "      <td>Comcast slamming/overcharge/</td>\n",
       "      <td>2015-04-27</td>\n",
       "      <td>Happy Valley</td>\n",
       "      <td>Oregon</td>\n",
       "      <td>97086</td>\n",
       "      <td>I recently moved and had comcast transfer serv...</td>\n",
       "      <td>\\n Follow-up message by FCC on 4/30/2015 4:07:...</td>\n",
       "      <td>Billings</td>\n",
       "    </tr>\n",
       "    <tr>\n",
       "      <th>2</th>\n",
       "      <td>Comcast Very Bad /Rude customer service</td>\n",
       "      <td>2015-04-22</td>\n",
       "      <td>Johns Creek</td>\n",
       "      <td>Georgia</td>\n",
       "      <td>30097</td>\n",
       "      <td>I am having comcast internet service in Johns ...</td>\n",
       "      <td>\\n Follow-up message by FCC on 4/23/2015 7:28:...</td>\n",
       "      <td>Billings</td>\n",
       "    </tr>\n",
       "    <tr>\n",
       "      <th>3</th>\n",
       "      <td>Comcast Complaint</td>\n",
       "      <td>2015-04-21</td>\n",
       "      <td>Jacksonville</td>\n",
       "      <td>Florida</td>\n",
       "      <td>32207</td>\n",
       "      <td>Postal Mail Ticket Ready For Data Entry\\n</td>\n",
       "      <td>\\n Follow-up message by FCC on 5/28/2015 1:51:...</td>\n",
       "      <td>Other</td>\n",
       "    </tr>\n",
       "    <tr>\n",
       "      <th>4</th>\n",
       "      <td>Unable to fully use services and high bills</td>\n",
       "      <td>2015-05-01</td>\n",
       "      <td>Indianapolis</td>\n",
       "      <td>Indiana</td>\n",
       "      <td>46229</td>\n",
       "      <td>My bill has been unusually high lately and hav...</td>\n",
       "      <td>None</td>\n",
       "      <td>Billings</td>\n",
       "    </tr>\n",
       "    <tr>\n",
       "      <th>...</th>\n",
       "      <td>...</td>\n",
       "      <td>...</td>\n",
       "      <td>...</td>\n",
       "      <td>...</td>\n",
       "      <td>...</td>\n",
       "      <td>...</td>\n",
       "      <td>...</td>\n",
       "      <td>...</td>\n",
       "    </tr>\n",
       "    <tr>\n",
       "      <th>437</th>\n",
       "      <td>Comcast Internet Data Cap LIES</td>\n",
       "      <td>2015-06-30</td>\n",
       "      <td>Cartersville</td>\n",
       "      <td>Georgia</td>\n",
       "      <td>30121</td>\n",
       "      <td>I live in an area where Comcast is our only op...</td>\n",
       "      <td>\\n Follow-up message by FCC on 7/9/2015 3:06:5...</td>\n",
       "      <td>Data Caps</td>\n",
       "    </tr>\n",
       "    <tr>\n",
       "      <th>438</th>\n",
       "      <td>Sold one service, received another</td>\n",
       "      <td>2015-06-11</td>\n",
       "      <td>Northport</td>\n",
       "      <td>Alabama</td>\n",
       "      <td>35473</td>\n",
       "      <td>I was sold a 150mbps speed with no data allowa...</td>\n",
       "      <td>\\n Follow-up message by FCC on 6/12/2015 2:08:...</td>\n",
       "      <td>Billings</td>\n",
       "    </tr>\n",
       "    <tr>\n",
       "      <th>439</th>\n",
       "      <td>Comcast: Billing issue</td>\n",
       "      <td>2015-04-27</td>\n",
       "      <td>Washington</td>\n",
       "      <td>District Of Columbia</td>\n",
       "      <td>20002</td>\n",
       "      <td>This is a complaint about Comcast Cable and In...</td>\n",
       "      <td>\\n Follow-up message by FCC on 4/29/2015 7:01:...</td>\n",
       "      <td>Billings</td>\n",
       "    </tr>\n",
       "    <tr>\n",
       "      <th>440</th>\n",
       "      <td>Comcast Blocking UDP Port 443</td>\n",
       "      <td>2015-06-05</td>\n",
       "      <td>Arlington</td>\n",
       "      <td>Virginia</td>\n",
       "      <td>22206</td>\n",
       "      <td>I work for the federal government and am the C...</td>\n",
       "      <td>\\n Follow-up message by Consumer on 6/9/2015 1...</td>\n",
       "      <td>Internet Problems</td>\n",
       "    </tr>\n",
       "    <tr>\n",
       "      <th>441</th>\n",
       "      <td>Comcast slow speeds and lying about prices</td>\n",
       "      <td>2015-06-24</td>\n",
       "      <td>Mount Juliet</td>\n",
       "      <td>Tennessee</td>\n",
       "      <td>37122</td>\n",
       "      <td>Comcast offered to raise our plan and lower ou...</td>\n",
       "      <td>\\n Follow-up message by FCC on 6/26/2015 12:18...</td>\n",
       "      <td>Internet Problems</td>\n",
       "    </tr>\n",
       "  </tbody>\n",
       "</table>\n",
       "<p>442 rows × 8 columns</p>\n",
       "</div>"
      ],
      "text/plain": [
       "                              customer_complaint        date          city  \\\n",
       "0                               Comcast Internet  2015-06-07    Charleston   \n",
       "1                   Comcast slamming/overcharge/  2015-04-27  Happy Valley   \n",
       "2        Comcast Very Bad /Rude customer service  2015-04-22   Johns Creek   \n",
       "3                              Comcast Complaint  2015-04-21  Jacksonville   \n",
       "4    Unable to fully use services and high bills  2015-05-01  Indianapolis   \n",
       "..                                           ...         ...           ...   \n",
       "437               Comcast Internet Data Cap LIES  2015-06-30  Cartersville   \n",
       "438           Sold one service, received another  2015-06-11     Northport   \n",
       "439                       Comcast: Billing issue  2015-04-27    Washington   \n",
       "440                Comcast Blocking UDP Port 443  2015-06-05     Arlington   \n",
       "441   Comcast slow speeds and lying about prices  2015-06-24  Mount Juliet   \n",
       "\n",
       "                    state  zip_code  \\\n",
       "0          South Carolina     48230   \n",
       "1                  Oregon     97086   \n",
       "2                 Georgia     30097   \n",
       "3                 Florida     32207   \n",
       "4                 Indiana     46229   \n",
       "..                    ...       ...   \n",
       "437               Georgia     30121   \n",
       "438               Alabama     35473   \n",
       "439  District Of Columbia     20002   \n",
       "440              Virginia     22206   \n",
       "441             Tennessee     37122   \n",
       "\n",
       "                                           description  \\\n",
       "0    Our house has not one but two comcast internet...   \n",
       "1    I recently moved and had comcast transfer serv...   \n",
       "2    I am having comcast internet service in Johns ...   \n",
       "3           Postal Mail Ticket Ready For Data Entry\\n    \n",
       "4    My bill has been unusually high lately and hav...   \n",
       "..                                                 ...   \n",
       "437  I live in an area where Comcast is our only op...   \n",
       "438  I was sold a 150mbps speed with no data allowa...   \n",
       "439  This is a complaint about Comcast Cable and In...   \n",
       "440  I work for the federal government and am the C...   \n",
       "441  Comcast offered to raise our plan and lower ou...   \n",
       "\n",
       "                                             remainder        predictions  \n",
       "0    \\n Follow-up message by FCC on 6/8/2015 3:50:3...  Internet Problems  \n",
       "1    \\n Follow-up message by FCC on 4/30/2015 4:07:...           Billings  \n",
       "2    \\n Follow-up message by FCC on 4/23/2015 7:28:...           Billings  \n",
       "3    \\n Follow-up message by FCC on 5/28/2015 1:51:...              Other  \n",
       "4                                                 None           Billings  \n",
       "..                                                 ...                ...  \n",
       "437  \\n Follow-up message by FCC on 7/9/2015 3:06:5...          Data Caps  \n",
       "438  \\n Follow-up message by FCC on 6/12/2015 2:08:...           Billings  \n",
       "439  \\n Follow-up message by FCC on 4/29/2015 7:01:...           Billings  \n",
       "440  \\n Follow-up message by Consumer on 6/9/2015 1...  Internet Problems  \n",
       "441  \\n Follow-up message by FCC on 6/26/2015 12:18...  Internet Problems  \n",
       "\n",
       "[442 rows x 8 columns]"
      ]
     },
     "execution_count": 27,
     "metadata": {},
     "output_type": "execute_result"
    }
   ],
   "source": [
    "#the category column needs to be converted to its original values\n",
    "predictions_df['predictions'] = predictions_df['predictions'].replace(\n",
    "                            [0, 1, 2, 3, 4], \n",
    "                            ['Billings', 'Internet Problems', 'Poor Customer Service', 'Data Caps', 'Other'])\n",
    "predictions_df.reset_index(drop = True)"
   ]
  },
  {
   "cell_type": "code",
   "execution_count": null,
   "metadata": {},
   "outputs": [],
   "source": [
    "#save dataframe to a csv file\n",
    "predictions_df.to_csv ('datasets/predictions.csv',  index = False, header=True)"
   ]
  },
  {
   "cell_type": "markdown",
   "metadata": {},
   "source": [
    "Use the csv file to create the interactive dashboard below. The dashboard can be applied too monitoring the trend of complaints from customers. The trend can be monitored in a state or a group of states over a period of time. The different categories can be investigated indivually or in groups."
   ]
  },
  {
   "cell_type": "markdown",
   "metadata": {},
   "source": [
    "![DASHBOARD](power_BI_report_page.jpg)"
   ]
  },
  {
   "cell_type": "markdown",
   "metadata": {},
   "source": [
    "## 7.0 Conclusion\n",
    "\n",
    "The model is saved in a pickle file. It can be incorporated in a micro service that can be used remotely."
   ]
  },
  {
   "cell_type": "markdown",
   "metadata": {},
   "source": [
    "## 8.0 Deployment\n",
    "\n",
    "Let's see how a user will put this model to work. We will use our test data from our model evaluation to trial the model in a web service. We will write the test input features back to a csv file and work our way up from there."
   ]
  },
  {
   "cell_type": "code",
   "execution_count": null,
   "metadata": {},
   "outputs": [],
   "source": [
    "test_input = pd.DataFrame(input_features_test)\n",
    "#save dataframe to a csv file\n",
    "test_input.to_csv ('datasets/test_input.csv', index = False, header=True)"
   ]
  },
  {
   "cell_type": "markdown",
   "metadata": {},
   "source": [
    "We will demonstrate here that we can take a csv file containing customer complaints and go through the process of making the predictions. The predictions are appended to the file and returned as a csv file. The returned csv file can be processed in the dashboard or analysed with some other analytical tools to find some patterns to the complaints from customers."
   ]
  },
  {
   "cell_type": "code",
   "execution_count": null,
   "metadata": {},
   "outputs": [],
   "source": [
    "#read the csv file, load the model and make predictions\n",
    "test_input = pd.read_csv('datasets/test_input.csv')\n",
    "test_input = pd.DataFrame(test_input)\n",
    "test_input_variables = test_input['description']\n",
    "#load model\n",
    "with open('lgr_model.pkl', 'rb') as file:\n",
    "        model = pickle.load(file)\n",
    "#make predictions\n",
    "predictions = model.predict(test_input_variables)\n",
    "#append the predictions to the input dataframe\n",
    "test_input['predictions'] = predictions\n",
    "#map the categories back to their categorical equivalents\n",
    "test_input['predictions'] = test_input['predictions'].replace(\n",
    "                            [0, 1, 2, 3, 4], \n",
    "                            ['Billings', 'Internet Problems', 'Poor Customer Service', 'Data Caps', 'Other'])\n",
    "test_input.reset_index(drop=True)\n",
    "#save the dataframe as a csv file\n",
    "filepath = 'datasets/predictions.csv'\n",
    "test_input.to_csv (filepath, index = False, header=True)\n"
   ]
  },
  {
   "cell_type": "markdown",
   "metadata": {},
   "source": [
    "There are several possible reports that can be generated from the returned csv file. The plot below shows the counts of the various categories in the predictions made by the model for the period of time the complaints were collected. It also shows the changes in the amount of complaints received over the period of time under review."
   ]
  },
  {
   "cell_type": "code",
   "execution_count": null,
   "metadata": {},
   "outputs": [
    {
     "ename": "FileNotFoundError",
     "evalue": "[Errno 2] No such file or directory: 'datsets/predictions.csv'",
     "output_type": "error",
     "traceback": [
      "\u001b[1;31m---------------------------------------------------------------------------\u001b[0m",
      "\u001b[1;31mFileNotFoundError\u001b[0m                         Traceback (most recent call last)",
      "\u001b[1;32mc:\\Users\\obika\\OneDrive\\Desktop\\complaints_classification\\complaints_classification\\model_training.ipynb Cell 52'\u001b[0m in \u001b[0;36m<cell line: 1>\u001b[1;34m()\u001b[0m\n\u001b[1;32m----> <a href='vscode-notebook-cell:/c%3A/Users/obika/OneDrive/Desktop/complaints_classification/complaints_classification/model_training.ipynb#ch0000051?line=0'>1</a>\u001b[0m mtu\u001b[39m.\u001b[39;49mdeploy_plot(\u001b[39m'\u001b[39;49m\u001b[39mdatsets/predictions.csv\u001b[39;49m\u001b[39m'\u001b[39;49m)\n",
      "File \u001b[1;32mc:\\Users\\obika\\OneDrive\\Desktop\\complaints_classification\\complaints_classification\\model_training_utils.py:77\u001b[0m, in \u001b[0;36mdeploy_plot\u001b[1;34m(filepath, modelfile)\u001b[0m\n\u001b[0;32m     <a href='file:///c%3A/Users/obika/OneDrive/Desktop/complaints_classification/complaints_classification/model_training_utils.py?line=75'>76</a>\u001b[0m \u001b[39mdef\u001b[39;00m \u001b[39mdeploy_plot\u001b[39m(filepath, modelfile \u001b[39m=\u001b[39m \u001b[39m'\u001b[39m\u001b[39mlgr_model.pkl\u001b[39m\u001b[39m'\u001b[39m):\n\u001b[1;32m---> <a href='file:///c%3A/Users/obika/OneDrive/Desktop/complaints_classification/complaints_classification/model_training_utils.py?line=76'>77</a>\u001b[0m         test_input \u001b[39m=\u001b[39m pd\u001b[39m.\u001b[39;49mread_csv(filepath)\n\u001b[0;32m     <a href='file:///c%3A/Users/obika/OneDrive/Desktop/complaints_classification/complaints_classification/model_training_utils.py?line=77'>78</a>\u001b[0m         test_input \u001b[39m=\u001b[39m pd\u001b[39m.\u001b[39mDataFrame(test_input)\n\u001b[0;32m     <a href='file:///c%3A/Users/obika/OneDrive/Desktop/complaints_classification/complaints_classification/model_training_utils.py?line=78'>79</a>\u001b[0m         test_input_variables \u001b[39m=\u001b[39m test_input[\u001b[39m'\u001b[39m\u001b[39mdescription\u001b[39m\u001b[39m'\u001b[39m]\n",
      "File \u001b[1;32mc:\\Users\\obika\\OneDrive\\Desktop\\complaints_classification\\complaints_classification\\lib\\site-packages\\pandas\\util\\_decorators.py:311\u001b[0m, in \u001b[0;36mdeprecate_nonkeyword_arguments.<locals>.decorate.<locals>.wrapper\u001b[1;34m(*args, **kwargs)\u001b[0m\n\u001b[0;32m    <a href='file:///c%3A/Users/obika/OneDrive/Desktop/complaints_classification/complaints_classification/lib/site-packages/pandas/util/_decorators.py?line=304'>305</a>\u001b[0m \u001b[39mif\u001b[39;00m \u001b[39mlen\u001b[39m(args) \u001b[39m>\u001b[39m num_allow_args:\n\u001b[0;32m    <a href='file:///c%3A/Users/obika/OneDrive/Desktop/complaints_classification/complaints_classification/lib/site-packages/pandas/util/_decorators.py?line=305'>306</a>\u001b[0m     warnings\u001b[39m.\u001b[39mwarn(\n\u001b[0;32m    <a href='file:///c%3A/Users/obika/OneDrive/Desktop/complaints_classification/complaints_classification/lib/site-packages/pandas/util/_decorators.py?line=306'>307</a>\u001b[0m         msg\u001b[39m.\u001b[39mformat(arguments\u001b[39m=\u001b[39marguments),\n\u001b[0;32m    <a href='file:///c%3A/Users/obika/OneDrive/Desktop/complaints_classification/complaints_classification/lib/site-packages/pandas/util/_decorators.py?line=307'>308</a>\u001b[0m         \u001b[39mFutureWarning\u001b[39;00m,\n\u001b[0;32m    <a href='file:///c%3A/Users/obika/OneDrive/Desktop/complaints_classification/complaints_classification/lib/site-packages/pandas/util/_decorators.py?line=308'>309</a>\u001b[0m         stacklevel\u001b[39m=\u001b[39mstacklevel,\n\u001b[0;32m    <a href='file:///c%3A/Users/obika/OneDrive/Desktop/complaints_classification/complaints_classification/lib/site-packages/pandas/util/_decorators.py?line=309'>310</a>\u001b[0m     )\n\u001b[1;32m--> <a href='file:///c%3A/Users/obika/OneDrive/Desktop/complaints_classification/complaints_classification/lib/site-packages/pandas/util/_decorators.py?line=310'>311</a>\u001b[0m \u001b[39mreturn\u001b[39;00m func(\u001b[39m*\u001b[39margs, \u001b[39m*\u001b[39m\u001b[39m*\u001b[39mkwargs)\n",
      "File \u001b[1;32mc:\\Users\\obika\\OneDrive\\Desktop\\complaints_classification\\complaints_classification\\lib\\site-packages\\pandas\\io\\parsers\\readers.py:680\u001b[0m, in \u001b[0;36mread_csv\u001b[1;34m(filepath_or_buffer, sep, delimiter, header, names, index_col, usecols, squeeze, prefix, mangle_dupe_cols, dtype, engine, converters, true_values, false_values, skipinitialspace, skiprows, skipfooter, nrows, na_values, keep_default_na, na_filter, verbose, skip_blank_lines, parse_dates, infer_datetime_format, keep_date_col, date_parser, dayfirst, cache_dates, iterator, chunksize, compression, thousands, decimal, lineterminator, quotechar, quoting, doublequote, escapechar, comment, encoding, encoding_errors, dialect, error_bad_lines, warn_bad_lines, on_bad_lines, delim_whitespace, low_memory, memory_map, float_precision, storage_options)\u001b[0m\n\u001b[0;32m    <a href='file:///c%3A/Users/obika/OneDrive/Desktop/complaints_classification/complaints_classification/lib/site-packages/pandas/io/parsers/readers.py?line=664'>665</a>\u001b[0m kwds_defaults \u001b[39m=\u001b[39m _refine_defaults_read(\n\u001b[0;32m    <a href='file:///c%3A/Users/obika/OneDrive/Desktop/complaints_classification/complaints_classification/lib/site-packages/pandas/io/parsers/readers.py?line=665'>666</a>\u001b[0m     dialect,\n\u001b[0;32m    <a href='file:///c%3A/Users/obika/OneDrive/Desktop/complaints_classification/complaints_classification/lib/site-packages/pandas/io/parsers/readers.py?line=666'>667</a>\u001b[0m     delimiter,\n\u001b[1;32m   (...)\u001b[0m\n\u001b[0;32m    <a href='file:///c%3A/Users/obika/OneDrive/Desktop/complaints_classification/complaints_classification/lib/site-packages/pandas/io/parsers/readers.py?line=675'>676</a>\u001b[0m     defaults\u001b[39m=\u001b[39m{\u001b[39m\"\u001b[39m\u001b[39mdelimiter\u001b[39m\u001b[39m\"\u001b[39m: \u001b[39m\"\u001b[39m\u001b[39m,\u001b[39m\u001b[39m\"\u001b[39m},\n\u001b[0;32m    <a href='file:///c%3A/Users/obika/OneDrive/Desktop/complaints_classification/complaints_classification/lib/site-packages/pandas/io/parsers/readers.py?line=676'>677</a>\u001b[0m )\n\u001b[0;32m    <a href='file:///c%3A/Users/obika/OneDrive/Desktop/complaints_classification/complaints_classification/lib/site-packages/pandas/io/parsers/readers.py?line=677'>678</a>\u001b[0m kwds\u001b[39m.\u001b[39mupdate(kwds_defaults)\n\u001b[1;32m--> <a href='file:///c%3A/Users/obika/OneDrive/Desktop/complaints_classification/complaints_classification/lib/site-packages/pandas/io/parsers/readers.py?line=679'>680</a>\u001b[0m \u001b[39mreturn\u001b[39;00m _read(filepath_or_buffer, kwds)\n",
      "File \u001b[1;32mc:\\Users\\obika\\OneDrive\\Desktop\\complaints_classification\\complaints_classification\\lib\\site-packages\\pandas\\io\\parsers\\readers.py:575\u001b[0m, in \u001b[0;36m_read\u001b[1;34m(filepath_or_buffer, kwds)\u001b[0m\n\u001b[0;32m    <a href='file:///c%3A/Users/obika/OneDrive/Desktop/complaints_classification/complaints_classification/lib/site-packages/pandas/io/parsers/readers.py?line=571'>572</a>\u001b[0m _validate_names(kwds\u001b[39m.\u001b[39mget(\u001b[39m\"\u001b[39m\u001b[39mnames\u001b[39m\u001b[39m\"\u001b[39m, \u001b[39mNone\u001b[39;00m))\n\u001b[0;32m    <a href='file:///c%3A/Users/obika/OneDrive/Desktop/complaints_classification/complaints_classification/lib/site-packages/pandas/io/parsers/readers.py?line=573'>574</a>\u001b[0m \u001b[39m# Create the parser.\u001b[39;00m\n\u001b[1;32m--> <a href='file:///c%3A/Users/obika/OneDrive/Desktop/complaints_classification/complaints_classification/lib/site-packages/pandas/io/parsers/readers.py?line=574'>575</a>\u001b[0m parser \u001b[39m=\u001b[39m TextFileReader(filepath_or_buffer, \u001b[39m*\u001b[39m\u001b[39m*\u001b[39mkwds)\n\u001b[0;32m    <a href='file:///c%3A/Users/obika/OneDrive/Desktop/complaints_classification/complaints_classification/lib/site-packages/pandas/io/parsers/readers.py?line=576'>577</a>\u001b[0m \u001b[39mif\u001b[39;00m chunksize \u001b[39mor\u001b[39;00m iterator:\n\u001b[0;32m    <a href='file:///c%3A/Users/obika/OneDrive/Desktop/complaints_classification/complaints_classification/lib/site-packages/pandas/io/parsers/readers.py?line=577'>578</a>\u001b[0m     \u001b[39mreturn\u001b[39;00m parser\n",
      "File \u001b[1;32mc:\\Users\\obika\\OneDrive\\Desktop\\complaints_classification\\complaints_classification\\lib\\site-packages\\pandas\\io\\parsers\\readers.py:933\u001b[0m, in \u001b[0;36mTextFileReader.__init__\u001b[1;34m(self, f, engine, **kwds)\u001b[0m\n\u001b[0;32m    <a href='file:///c%3A/Users/obika/OneDrive/Desktop/complaints_classification/complaints_classification/lib/site-packages/pandas/io/parsers/readers.py?line=929'>930</a>\u001b[0m     \u001b[39mself\u001b[39m\u001b[39m.\u001b[39moptions[\u001b[39m\"\u001b[39m\u001b[39mhas_index_names\u001b[39m\u001b[39m\"\u001b[39m] \u001b[39m=\u001b[39m kwds[\u001b[39m\"\u001b[39m\u001b[39mhas_index_names\u001b[39m\u001b[39m\"\u001b[39m]\n\u001b[0;32m    <a href='file:///c%3A/Users/obika/OneDrive/Desktop/complaints_classification/complaints_classification/lib/site-packages/pandas/io/parsers/readers.py?line=931'>932</a>\u001b[0m \u001b[39mself\u001b[39m\u001b[39m.\u001b[39mhandles: IOHandles \u001b[39m|\u001b[39m \u001b[39mNone\u001b[39;00m \u001b[39m=\u001b[39m \u001b[39mNone\u001b[39;00m\n\u001b[1;32m--> <a href='file:///c%3A/Users/obika/OneDrive/Desktop/complaints_classification/complaints_classification/lib/site-packages/pandas/io/parsers/readers.py?line=932'>933</a>\u001b[0m \u001b[39mself\u001b[39m\u001b[39m.\u001b[39m_engine \u001b[39m=\u001b[39m \u001b[39mself\u001b[39;49m\u001b[39m.\u001b[39;49m_make_engine(f, \u001b[39mself\u001b[39;49m\u001b[39m.\u001b[39;49mengine)\n",
      "File \u001b[1;32mc:\\Users\\obika\\OneDrive\\Desktop\\complaints_classification\\complaints_classification\\lib\\site-packages\\pandas\\io\\parsers\\readers.py:1217\u001b[0m, in \u001b[0;36mTextFileReader._make_engine\u001b[1;34m(self, f, engine)\u001b[0m\n\u001b[0;32m   <a href='file:///c%3A/Users/obika/OneDrive/Desktop/complaints_classification/complaints_classification/lib/site-packages/pandas/io/parsers/readers.py?line=1212'>1213</a>\u001b[0m     mode \u001b[39m=\u001b[39m \u001b[39m\"\u001b[39m\u001b[39mrb\u001b[39m\u001b[39m\"\u001b[39m\n\u001b[0;32m   <a href='file:///c%3A/Users/obika/OneDrive/Desktop/complaints_classification/complaints_classification/lib/site-packages/pandas/io/parsers/readers.py?line=1213'>1214</a>\u001b[0m \u001b[39m# error: No overload variant of \"get_handle\" matches argument types\u001b[39;00m\n\u001b[0;32m   <a href='file:///c%3A/Users/obika/OneDrive/Desktop/complaints_classification/complaints_classification/lib/site-packages/pandas/io/parsers/readers.py?line=1214'>1215</a>\u001b[0m \u001b[39m# \"Union[str, PathLike[str], ReadCsvBuffer[bytes], ReadCsvBuffer[str]]\"\u001b[39;00m\n\u001b[0;32m   <a href='file:///c%3A/Users/obika/OneDrive/Desktop/complaints_classification/complaints_classification/lib/site-packages/pandas/io/parsers/readers.py?line=1215'>1216</a>\u001b[0m \u001b[39m# , \"str\", \"bool\", \"Any\", \"Any\", \"Any\", \"Any\", \"Any\"\u001b[39;00m\n\u001b[1;32m-> <a href='file:///c%3A/Users/obika/OneDrive/Desktop/complaints_classification/complaints_classification/lib/site-packages/pandas/io/parsers/readers.py?line=1216'>1217</a>\u001b[0m \u001b[39mself\u001b[39m\u001b[39m.\u001b[39mhandles \u001b[39m=\u001b[39m get_handle(  \u001b[39m# type: ignore[call-overload]\u001b[39;49;00m\n\u001b[0;32m   <a href='file:///c%3A/Users/obika/OneDrive/Desktop/complaints_classification/complaints_classification/lib/site-packages/pandas/io/parsers/readers.py?line=1217'>1218</a>\u001b[0m     f,\n\u001b[0;32m   <a href='file:///c%3A/Users/obika/OneDrive/Desktop/complaints_classification/complaints_classification/lib/site-packages/pandas/io/parsers/readers.py?line=1218'>1219</a>\u001b[0m     mode,\n\u001b[0;32m   <a href='file:///c%3A/Users/obika/OneDrive/Desktop/complaints_classification/complaints_classification/lib/site-packages/pandas/io/parsers/readers.py?line=1219'>1220</a>\u001b[0m     encoding\u001b[39m=\u001b[39;49m\u001b[39mself\u001b[39;49m\u001b[39m.\u001b[39;49moptions\u001b[39m.\u001b[39;49mget(\u001b[39m\"\u001b[39;49m\u001b[39mencoding\u001b[39;49m\u001b[39m\"\u001b[39;49m, \u001b[39mNone\u001b[39;49;00m),\n\u001b[0;32m   <a href='file:///c%3A/Users/obika/OneDrive/Desktop/complaints_classification/complaints_classification/lib/site-packages/pandas/io/parsers/readers.py?line=1220'>1221</a>\u001b[0m     compression\u001b[39m=\u001b[39;49m\u001b[39mself\u001b[39;49m\u001b[39m.\u001b[39;49moptions\u001b[39m.\u001b[39;49mget(\u001b[39m\"\u001b[39;49m\u001b[39mcompression\u001b[39;49m\u001b[39m\"\u001b[39;49m, \u001b[39mNone\u001b[39;49;00m),\n\u001b[0;32m   <a href='file:///c%3A/Users/obika/OneDrive/Desktop/complaints_classification/complaints_classification/lib/site-packages/pandas/io/parsers/readers.py?line=1221'>1222</a>\u001b[0m     memory_map\u001b[39m=\u001b[39;49m\u001b[39mself\u001b[39;49m\u001b[39m.\u001b[39;49moptions\u001b[39m.\u001b[39;49mget(\u001b[39m\"\u001b[39;49m\u001b[39mmemory_map\u001b[39;49m\u001b[39m\"\u001b[39;49m, \u001b[39mFalse\u001b[39;49;00m),\n\u001b[0;32m   <a href='file:///c%3A/Users/obika/OneDrive/Desktop/complaints_classification/complaints_classification/lib/site-packages/pandas/io/parsers/readers.py?line=1222'>1223</a>\u001b[0m     is_text\u001b[39m=\u001b[39;49mis_text,\n\u001b[0;32m   <a href='file:///c%3A/Users/obika/OneDrive/Desktop/complaints_classification/complaints_classification/lib/site-packages/pandas/io/parsers/readers.py?line=1223'>1224</a>\u001b[0m     errors\u001b[39m=\u001b[39;49m\u001b[39mself\u001b[39;49m\u001b[39m.\u001b[39;49moptions\u001b[39m.\u001b[39;49mget(\u001b[39m\"\u001b[39;49m\u001b[39mencoding_errors\u001b[39;49m\u001b[39m\"\u001b[39;49m, \u001b[39m\"\u001b[39;49m\u001b[39mstrict\u001b[39;49m\u001b[39m\"\u001b[39;49m),\n\u001b[0;32m   <a href='file:///c%3A/Users/obika/OneDrive/Desktop/complaints_classification/complaints_classification/lib/site-packages/pandas/io/parsers/readers.py?line=1224'>1225</a>\u001b[0m     storage_options\u001b[39m=\u001b[39;49m\u001b[39mself\u001b[39;49m\u001b[39m.\u001b[39;49moptions\u001b[39m.\u001b[39;49mget(\u001b[39m\"\u001b[39;49m\u001b[39mstorage_options\u001b[39;49m\u001b[39m\"\u001b[39;49m, \u001b[39mNone\u001b[39;49;00m),\n\u001b[0;32m   <a href='file:///c%3A/Users/obika/OneDrive/Desktop/complaints_classification/complaints_classification/lib/site-packages/pandas/io/parsers/readers.py?line=1225'>1226</a>\u001b[0m )\n\u001b[0;32m   <a href='file:///c%3A/Users/obika/OneDrive/Desktop/complaints_classification/complaints_classification/lib/site-packages/pandas/io/parsers/readers.py?line=1226'>1227</a>\u001b[0m \u001b[39massert\u001b[39;00m \u001b[39mself\u001b[39m\u001b[39m.\u001b[39mhandles \u001b[39mis\u001b[39;00m \u001b[39mnot\u001b[39;00m \u001b[39mNone\u001b[39;00m\n\u001b[0;32m   <a href='file:///c%3A/Users/obika/OneDrive/Desktop/complaints_classification/complaints_classification/lib/site-packages/pandas/io/parsers/readers.py?line=1227'>1228</a>\u001b[0m f \u001b[39m=\u001b[39m \u001b[39mself\u001b[39m\u001b[39m.\u001b[39mhandles\u001b[39m.\u001b[39mhandle\n",
      "File \u001b[1;32mc:\\Users\\obika\\OneDrive\\Desktop\\complaints_classification\\complaints_classification\\lib\\site-packages\\pandas\\io\\common.py:789\u001b[0m, in \u001b[0;36mget_handle\u001b[1;34m(path_or_buf, mode, encoding, compression, memory_map, is_text, errors, storage_options)\u001b[0m\n\u001b[0;32m    <a href='file:///c%3A/Users/obika/OneDrive/Desktop/complaints_classification/complaints_classification/lib/site-packages/pandas/io/common.py?line=783'>784</a>\u001b[0m \u001b[39melif\u001b[39;00m \u001b[39misinstance\u001b[39m(handle, \u001b[39mstr\u001b[39m):\n\u001b[0;32m    <a href='file:///c%3A/Users/obika/OneDrive/Desktop/complaints_classification/complaints_classification/lib/site-packages/pandas/io/common.py?line=784'>785</a>\u001b[0m     \u001b[39m# Check whether the filename is to be opened in binary mode.\u001b[39;00m\n\u001b[0;32m    <a href='file:///c%3A/Users/obika/OneDrive/Desktop/complaints_classification/complaints_classification/lib/site-packages/pandas/io/common.py?line=785'>786</a>\u001b[0m     \u001b[39m# Binary mode does not support 'encoding' and 'newline'.\u001b[39;00m\n\u001b[0;32m    <a href='file:///c%3A/Users/obika/OneDrive/Desktop/complaints_classification/complaints_classification/lib/site-packages/pandas/io/common.py?line=786'>787</a>\u001b[0m     \u001b[39mif\u001b[39;00m ioargs\u001b[39m.\u001b[39mencoding \u001b[39mand\u001b[39;00m \u001b[39m\"\u001b[39m\u001b[39mb\u001b[39m\u001b[39m\"\u001b[39m \u001b[39mnot\u001b[39;00m \u001b[39min\u001b[39;00m ioargs\u001b[39m.\u001b[39mmode:\n\u001b[0;32m    <a href='file:///c%3A/Users/obika/OneDrive/Desktop/complaints_classification/complaints_classification/lib/site-packages/pandas/io/common.py?line=787'>788</a>\u001b[0m         \u001b[39m# Encoding\u001b[39;00m\n\u001b[1;32m--> <a href='file:///c%3A/Users/obika/OneDrive/Desktop/complaints_classification/complaints_classification/lib/site-packages/pandas/io/common.py?line=788'>789</a>\u001b[0m         handle \u001b[39m=\u001b[39m \u001b[39mopen\u001b[39;49m(\n\u001b[0;32m    <a href='file:///c%3A/Users/obika/OneDrive/Desktop/complaints_classification/complaints_classification/lib/site-packages/pandas/io/common.py?line=789'>790</a>\u001b[0m             handle,\n\u001b[0;32m    <a href='file:///c%3A/Users/obika/OneDrive/Desktop/complaints_classification/complaints_classification/lib/site-packages/pandas/io/common.py?line=790'>791</a>\u001b[0m             ioargs\u001b[39m.\u001b[39;49mmode,\n\u001b[0;32m    <a href='file:///c%3A/Users/obika/OneDrive/Desktop/complaints_classification/complaints_classification/lib/site-packages/pandas/io/common.py?line=791'>792</a>\u001b[0m             encoding\u001b[39m=\u001b[39;49mioargs\u001b[39m.\u001b[39;49mencoding,\n\u001b[0;32m    <a href='file:///c%3A/Users/obika/OneDrive/Desktop/complaints_classification/complaints_classification/lib/site-packages/pandas/io/common.py?line=792'>793</a>\u001b[0m             errors\u001b[39m=\u001b[39;49merrors,\n\u001b[0;32m    <a href='file:///c%3A/Users/obika/OneDrive/Desktop/complaints_classification/complaints_classification/lib/site-packages/pandas/io/common.py?line=793'>794</a>\u001b[0m             newline\u001b[39m=\u001b[39;49m\u001b[39m\"\u001b[39;49m\u001b[39m\"\u001b[39;49m,\n\u001b[0;32m    <a href='file:///c%3A/Users/obika/OneDrive/Desktop/complaints_classification/complaints_classification/lib/site-packages/pandas/io/common.py?line=794'>795</a>\u001b[0m         )\n\u001b[0;32m    <a href='file:///c%3A/Users/obika/OneDrive/Desktop/complaints_classification/complaints_classification/lib/site-packages/pandas/io/common.py?line=795'>796</a>\u001b[0m     \u001b[39melse\u001b[39;00m:\n\u001b[0;32m    <a href='file:///c%3A/Users/obika/OneDrive/Desktop/complaints_classification/complaints_classification/lib/site-packages/pandas/io/common.py?line=796'>797</a>\u001b[0m         \u001b[39m# Binary mode\u001b[39;00m\n\u001b[0;32m    <a href='file:///c%3A/Users/obika/OneDrive/Desktop/complaints_classification/complaints_classification/lib/site-packages/pandas/io/common.py?line=797'>798</a>\u001b[0m         handle \u001b[39m=\u001b[39m \u001b[39mopen\u001b[39m(handle, ioargs\u001b[39m.\u001b[39mmode)\n",
      "\u001b[1;31mFileNotFoundError\u001b[0m: [Errno 2] No such file or directory: 'datsets/predictions.csv'"
     ]
    }
   ],
   "source": [
    "mtu.deploy_plot('datasets/predictions.csv')"
   ]
  },
  {
   "cell_type": "markdown",
   "metadata": {},
   "source": [
    "## Model Application\n",
    "We have seen how to take customer complaints, use a machine learning model to automate the classification of these complaints and how to put the model to work in the field. This model can be used by various functional units in an organisation. Let's go through some of the applications of this model.\n",
    "\n",
    "-   The automation of complaints will free up time for customer service staff to take care of other tasks\n",
    "-   Sales representatives will be able to identify services in their market area that customers are mostly not happy with\n",
    "-   The operations team can monitor how their maintenance services are reducing the technical challenges customers are experiencing\n",
    "-   The The operations team can also use the knowledge from the distribution of the complaints in the country to plan deployment of resources for maintenance projects\n",
    "-   Leadership can monitor the volume of complaints from customers and take actions to avoid fines from regulatory authorities."
   ]
  }
 ],
 "metadata": {
  "interpreter": {
   "hash": "608c348ab1cccb22559bf589957dc1b478397fe38bbd7e3b8ff80fef825f0be0"
  },
  "kernelspec": {
   "display_name": "Python 3.10.4 ('complaints_classification': venv)",
   "language": "python",
   "name": "python3"
  },
  "language_info": {
   "codemirror_mode": {
    "name": "ipython",
    "version": 3
   },
   "file_extension": ".py",
   "mimetype": "text/x-python",
   "name": "python",
   "nbconvert_exporter": "python",
   "pygments_lexer": "ipython3",
   "version": "3.10.4"
  },
  "orig_nbformat": 4
 },
 "nbformat": 4,
 "nbformat_minor": 2
}
