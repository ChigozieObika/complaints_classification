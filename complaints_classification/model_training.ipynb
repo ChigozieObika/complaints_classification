{
 "cells": [
  {
   "cell_type": "markdown",
   "metadata": {},
   "source": [
    "# Model Training\n",
    "\n",
    "The EDA on our raw dataset showed we need to take some few simple steps to get it ready for modelling. We will start with those steps before getting on with building our multiclass classifier."
   ]
  },
  {
   "cell_type": "markdown",
   "metadata": {},
   "source": [
    "## 1.0 Import Libraries\n",
    "The relevant libraries are imported. There are some nltk downloads that are only required when running this notebook for the first time. Subsequents runs do not require these downloads."
   ]
  },
  {
   "cell_type": "code",
   "execution_count": 16,
   "metadata": {},
   "outputs": [],
   "source": [
    "import os\n",
    "\n",
    "import pandas as pd\n",
    "\n",
    "from sklearn.model_selection import train_test_split, GridSearchCV\n",
    "from sklearn.feature_extraction.text import CountVectorizer, TfidfTransformer\n",
    "from sklearn.pipeline import Pipeline\n",
    "from sklearn.linear_model import LogisticRegression\n",
    "from xgboost import XGBClassifier\n",
    "from sklearn.metrics import accuracy_score, f1_score\n",
    "\n",
    "import matplotlib.pyplot as plt\n",
    "import seaborn as sns\n",
    "\n",
    "import re\n",
    "import nltk\n",
    "#uncomment the next two lines if running for the first time\n",
    "# nltk.download('wordnet') \n",
    "# nltk.download('omw-1.4')\n",
    "import itertools\n",
    "from nltk.tokenize import sent_tokenize\n",
    "from nltk.tokenize import word_tokenize\n",
    "from nltk.corpus import stopwords\n",
    "from nltk.stem import WordNetLemmatizer\n",
    "\n",
    "import pipeline_config as pc\n",
    "import model_training_utils as mtu\n"
   ]
  },
  {
   "cell_type": "markdown",
   "metadata": {},
   "source": [
    "## 2.0 Preparing the data\n",
    "The dataset is loaded from the file. The duplicates in the dataset are dropped, the names of the colums and the categories in the target column are modified for convenience. The name of one of the states and one of the categories that used an incorrect letter case were modified to reflect the correct case. Though it was not done during the EDA because it was not affecting the analysis, the descriptions of the complaints were sliced to remove the comments from FCC (a regulatory body)."
   ]
  },
  {
   "cell_type": "code",
   "execution_count": 2,
   "metadata": {},
   "outputs": [
    {
     "name": "stdout",
     "output_type": "stream",
     "text": [
      "loading dataset...\n"
     ]
    }
   ],
   "source": [
    "#loading the dataset\n",
    "print ('loading dataset...')\n",
    "data = pd.read_csv('ComCast_FCC.csv')"
   ]
  },
  {
   "cell_type": "code",
   "execution_count": 3,
   "metadata": {},
   "outputs": [
    {
     "name": "stdout",
     "output_type": "stream",
     "text": [
      "(2208, 7)\n"
     ]
    },
    {
     "data": {
      "text/html": [
       "<div>\n",
       "<style scoped>\n",
       "    .dataframe tbody tr th:only-of-type {\n",
       "        vertical-align: middle;\n",
       "    }\n",
       "\n",
       "    .dataframe tbody tr th {\n",
       "        vertical-align: top;\n",
       "    }\n",
       "\n",
       "    .dataframe thead th {\n",
       "        text-align: right;\n",
       "    }\n",
       "</style>\n",
       "<table border=\"1\" class=\"dataframe\">\n",
       "  <thead>\n",
       "    <tr style=\"text-align: right;\">\n",
       "      <th></th>\n",
       "      <th>Customer Complaint</th>\n",
       "      <th>Category</th>\n",
       "      <th>Date</th>\n",
       "      <th>City</th>\n",
       "      <th>State</th>\n",
       "      <th>Zip code</th>\n",
       "      <th>Description</th>\n",
       "    </tr>\n",
       "  </thead>\n",
       "  <tbody>\n",
       "    <tr>\n",
       "      <th>0</th>\n",
       "      <td>Comcast Cable Internet Speeds</td>\n",
       "      <td>Internet Problems</td>\n",
       "      <td>2015-04-22</td>\n",
       "      <td>Abingdon</td>\n",
       "      <td>Maryland</td>\n",
       "      <td>21009</td>\n",
       "      <td>I have been contacting Comcast Internet Techni...</td>\n",
       "    </tr>\n",
       "    <tr>\n",
       "      <th>1</th>\n",
       "      <td>Payment disappear - service got disconnected</td>\n",
       "      <td>Poor Customer Service</td>\n",
       "      <td>2015-04-08</td>\n",
       "      <td>Acworth</td>\n",
       "      <td>Georgia</td>\n",
       "      <td>30102</td>\n",
       "      <td>Back in January 2015 I made 2 payments: One fo...</td>\n",
       "    </tr>\n",
       "    <tr>\n",
       "      <th>2</th>\n",
       "      <td>Speed and Service</td>\n",
       "      <td>Internet Problems</td>\n",
       "      <td>2015-04-18</td>\n",
       "      <td>Acworth</td>\n",
       "      <td>Georgia</td>\n",
       "      <td>30101</td>\n",
       "      <td>Our home is located at in Acworth Georgia 3010...</td>\n",
       "    </tr>\n",
       "    <tr>\n",
       "      <th>3</th>\n",
       "      <td>Comcast Imposed a New Usage Cap of 300GB that ...</td>\n",
       "      <td>Billings</td>\n",
       "      <td>2015-05-07</td>\n",
       "      <td>Acworth</td>\n",
       "      <td>Georgia</td>\n",
       "      <td>30101</td>\n",
       "      <td>Comcast in the Atlanta area has just put into ...</td>\n",
       "    </tr>\n",
       "    <tr>\n",
       "      <th>4</th>\n",
       "      <td>Comcast not working and no service to boot</td>\n",
       "      <td>Internet Problems</td>\n",
       "      <td>2015-05-26</td>\n",
       "      <td>Acworth</td>\n",
       "      <td>Georgia</td>\n",
       "      <td>30101</td>\n",
       "      <td>I have been a customer of Comcast of some sort...</td>\n",
       "    </tr>\n",
       "  </tbody>\n",
       "</table>\n",
       "</div>"
      ],
      "text/plain": [
       "                                  Customer Complaint               Category  \\\n",
       "0                      Comcast Cable Internet Speeds      Internet Problems   \n",
       "1       Payment disappear - service got disconnected  Poor Customer Service   \n",
       "2                                  Speed and Service      Internet Problems   \n",
       "3  Comcast Imposed a New Usage Cap of 300GB that ...               Billings   \n",
       "4         Comcast not working and no service to boot      Internet Problems   \n",
       "\n",
       "         Date      City     State  Zip code  \\\n",
       "0  2015-04-22  Abingdon  Maryland     21009   \n",
       "1  2015-04-08   Acworth   Georgia     30102   \n",
       "2  2015-04-18   Acworth   Georgia     30101   \n",
       "3  2015-05-07   Acworth   Georgia     30101   \n",
       "4  2015-05-26   Acworth   Georgia     30101   \n",
       "\n",
       "                                         Description  \n",
       "0  I have been contacting Comcast Internet Techni...  \n",
       "1  Back in January 2015 I made 2 payments: One fo...  \n",
       "2  Our home is located at in Acworth Georgia 3010...  \n",
       "3  Comcast in the Atlanta area has just put into ...  \n",
       "4  I have been a customer of Comcast of some sort...  "
      ]
     },
     "execution_count": 3,
     "metadata": {},
     "output_type": "execute_result"
    }
   ],
   "source": [
    "#dropping the duplicates in the dataset\n",
    "primary_data = pd.DataFrame(data)\n",
    "primary_data = primary_data.drop_duplicates(keep='first')\n",
    "print(primary_data.shape)\n",
    "primary_data.head()"
   ]
  },
  {
   "cell_type": "code",
   "execution_count": 4,
   "metadata": {},
   "outputs": [],
   "source": [
    "#modifying the names of the columns\n",
    "primary_data.rename(columns = {'Customer Complaint':'customer_complaint', \n",
    "                                'Category':'category', \n",
    "                                'Date':'date',\n",
    "                                'City':'city', \n",
    "                                'State':'state', \n",
    "                                'Zip code':'zip_code', \n",
    "                                'Description':'description'}, inplace = True)"
   ]
  },
  {
   "cell_type": "code",
   "execution_count": 5,
   "metadata": {},
   "outputs": [],
   "source": [
    "#modifying the categories and correcting the incorrect leter case\n",
    "primary_data['category'] = primary_data['category'].replace(\n",
    "                            ['Billings', 'Internet Problems', 'Poor Customer Service', 'Data Caps', 'Other', 'other'], \n",
    "                            [0, 1, 2, 3, 4, 4])"
   ]
  },
  {
   "cell_type": "code",
   "execution_count": 6,
   "metadata": {},
   "outputs": [],
   "source": [
    "#using the correct letter case\n",
    "primary_data['state'] = primary_data['state'].replace('District of Columbia', 'District Of Columbia')"
   ]
  },
  {
   "cell_type": "code",
   "execution_count": 7,
   "metadata": {},
   "outputs": [],
   "source": [
    "# split the descriptions on the dashes to extract the comments from FCC\n",
    "primary_data[[\"description\", \"remainder\"]] = primary_data[\"description\"].str.split(\n",
    "                                            \"- - - - - - - - - - - - - - - - - - - - -\",\n",
    "                                            n=1,expand=True)"
   ]
  },
  {
   "cell_type": "markdown",
   "metadata": {},
   "source": [
    "## 3.0 Modelling\n",
    "\n",
    "### Train Test Split\n",
    "The train test split was doing using the scikit learn standard test train split function. The train set size is 80%. Since the modelling will use gridsearchCV to find the best parameters, a validation set was not absolutely necessary so it was not factored in the split.\n"
   ]
  },
  {
   "cell_type": "code",
   "execution_count": 8,
   "metadata": {},
   "outputs": [],
   "source": [
    "#input and target variables\n",
    "X = primary_data.description\n",
    "y = primary_data.category"
   ]
  },
  {
   "cell_type": "code",
   "execution_count": 9,
   "metadata": {},
   "outputs": [
    {
     "data": {
      "text/plain": [
       "((2208,), (2208,))"
      ]
     },
     "execution_count": 9,
     "metadata": {},
     "output_type": "execute_result"
    }
   ],
   "source": [
    "#size of the variables\n",
    "X.shape, y.shape"
   ]
  },
  {
   "cell_type": "code",
   "execution_count": 10,
   "metadata": {},
   "outputs": [
    {
     "data": {
      "text/plain": [
       "((1766,), (442,), (1766,), (442,))"
      ]
     },
     "execution_count": 10,
     "metadata": {},
     "output_type": "execute_result"
    }
   ],
   "source": [
    "#train test split\n",
    "X_train, X_test, y_train, y_test = train_test_split(X, y, test_size=0.2, random_state=16)\n",
    "X_train.shape, X_test.shape, y_train.shape, y_test.shape,"
   ]
  },
  {
   "cell_type": "markdown",
   "metadata": {},
   "source": [
    "### Model Training and Evaluation\n",
    "The classifiers used in the modelling include:\n",
    "A. Dummy Classifier: used to establish the base case\n",
    "B. MultinimialNB, NB\n",
    "C. Randomforest, RFC\n",
    "D. SupportVectorMachine, SVM\n",
    "E. ExtraTreeClassifier, XTC\n",
    "\n",
    "The gridsearchCV was only done on the SVM and the XTC. The best parameters for each algorithm are used to train a model and the model with the best f1 score is chosen as the best performing model.\n",
    "\n",
    "The metrics for evaluation are accuracy and macro f1 score."
   ]
  },
  {
   "cell_type": "code",
   "execution_count": 34,
   "metadata": {},
   "outputs": [
    {
     "data": {
      "text/html": [
       "<div>\n",
       "<style scoped>\n",
       "    .dataframe tbody tr th:only-of-type {\n",
       "        vertical-align: middle;\n",
       "    }\n",
       "\n",
       "    .dataframe tbody tr th {\n",
       "        vertical-align: top;\n",
       "    }\n",
       "\n",
       "    .dataframe thead th {\n",
       "        text-align: right;\n",
       "    }\n",
       "</style>\n",
       "<table border=\"1\" class=\"dataframe\">\n",
       "  <thead>\n",
       "    <tr style=\"text-align: right;\">\n",
       "      <th></th>\n",
       "      <th>classifier</th>\n",
       "      <th>accuracy</th>\n",
       "      <th>micro_f1</th>\n",
       "      <th>weighted_f1</th>\n",
       "      <th>macro_f1</th>\n",
       "    </tr>\n",
       "  </thead>\n",
       "  <tbody>\n",
       "    <tr>\n",
       "      <th>0</th>\n",
       "      <td>dummy</td>\n",
       "      <td>0.386878</td>\n",
       "      <td>0.386878</td>\n",
       "      <td>0.215844</td>\n",
       "      <td>0.111582</td>\n",
       "    </tr>\n",
       "    <tr>\n",
       "      <th>1</th>\n",
       "      <td>MNB</td>\n",
       "      <td>0.488688</td>\n",
       "      <td>0.488688</td>\n",
       "      <td>0.389033</td>\n",
       "      <td>0.290649</td>\n",
       "    </tr>\n",
       "    <tr>\n",
       "      <th>2</th>\n",
       "      <td>BGC</td>\n",
       "      <td>0.619910</td>\n",
       "      <td>0.619910</td>\n",
       "      <td>0.604388</td>\n",
       "      <td>0.573869</td>\n",
       "    </tr>\n",
       "    <tr>\n",
       "      <th>3</th>\n",
       "      <td>XTC</td>\n",
       "      <td>0.660633</td>\n",
       "      <td>0.660633</td>\n",
       "      <td>0.632979</td>\n",
       "      <td>0.602372</td>\n",
       "    </tr>\n",
       "    <tr>\n",
       "      <th>4</th>\n",
       "      <td>RFC</td>\n",
       "      <td>0.683258</td>\n",
       "      <td>0.683258</td>\n",
       "      <td>0.656779</td>\n",
       "      <td>0.629311</td>\n",
       "    </tr>\n",
       "    <tr>\n",
       "      <th>5</th>\n",
       "      <td>SVM</td>\n",
       "      <td>0.696833</td>\n",
       "      <td>0.696833</td>\n",
       "      <td>0.692081</td>\n",
       "      <td>0.656526</td>\n",
       "    </tr>\n",
       "    <tr>\n",
       "      <th>6</th>\n",
       "      <td>GBC</td>\n",
       "      <td>0.703620</td>\n",
       "      <td>0.703620</td>\n",
       "      <td>0.694426</td>\n",
       "      <td>0.667811</td>\n",
       "    </tr>\n",
       "    <tr>\n",
       "      <th>7</th>\n",
       "      <td>XGB</td>\n",
       "      <td>0.719457</td>\n",
       "      <td>0.719457</td>\n",
       "      <td>0.711486</td>\n",
       "      <td>0.683836</td>\n",
       "    </tr>\n",
       "    <tr>\n",
       "      <th>8</th>\n",
       "      <td>LGR</td>\n",
       "      <td>0.737557</td>\n",
       "      <td>0.737557</td>\n",
       "      <td>0.724880</td>\n",
       "      <td>0.684095</td>\n",
       "    </tr>\n",
       "  </tbody>\n",
       "</table>\n",
       "</div>"
      ],
      "text/plain": [
       "  classifier  accuracy  micro_f1  weighted_f1  macro_f1\n",
       "0      dummy  0.386878  0.386878     0.215844  0.111582\n",
       "1        MNB  0.488688  0.488688     0.389033  0.290649\n",
       "2        BGC  0.619910  0.619910     0.604388  0.573869\n",
       "3        XTC  0.660633  0.660633     0.632979  0.602372\n",
       "4        RFC  0.683258  0.683258     0.656779  0.629311\n",
       "5        SVM  0.696833  0.696833     0.692081  0.656526\n",
       "6        GBC  0.703620  0.703620     0.694426  0.667811\n",
       "7        XGB  0.719457  0.719457     0.711486  0.683836\n",
       "8        LGR  0.737557  0.737557     0.724880  0.684095"
      ]
     },
     "execution_count": 34,
     "metadata": {},
     "output_type": "execute_result"
    }
   ],
   "source": [
    "model_metrics = mtu.model_metrics(pc.CLASSIFIERS, X_train, X_test, y_train, y_test)\n",
    "model_metrics"
   ]
  },
  {
   "cell_type": "code",
   "execution_count": 12,
   "metadata": {},
   "outputs": [],
   "source": [
    "#grid search XGB pipeline\n",
    "# parameters = pc.XGB_PARAMETERS\n",
    "\n",
    "# cv = pc.CV\n",
    "\n",
    "# gs_xgb_clf = GridSearchCV(pc.XGB_CLF, parameters, cv=cv, verbose=True)\n",
    "\n",
    "# gs_xgb_clf.fit(X_train, y_train)\n",
    "\n",
    "# # gs_svm_clf_pred = gs_svm_clf.predict(X_test)\n",
    "\n",
    "# best_parameters = gs_xgb_clf.best_estimator_.get_params()\n",
    "# for param_name in sorted(parameters.keys()):\n",
    "#         print(\"\\t%s: %r\" % (param_name, best_parameters[param_name]))"
   ]
  },
  {
   "cell_type": "code",
   "execution_count": 13,
   "metadata": {},
   "outputs": [
    {
     "name": "stdout",
     "output_type": "stream",
     "text": [
      "0.7036199095022625 0.6698145154199431\n"
     ]
    }
   ],
   "source": [
    "#define a XGB pipeline using result from grid search\n",
    "from xgboost import XGBClassifier\n",
    "xgb_clf_grid = Pipeline([\n",
    "                ('vect', CountVectorizer(ngram_range = (1, 1))),\n",
    "                ('tfidf', TfidfTransformer(use_idf = True)), \n",
    "                ('clf', XGBClassifier(n_estimators= 150,\n",
    "                subsample= 0.9,\n",
    "                gamma= 0.25,\n",
    "                learning_rate= 0.20, \n",
    "                max_depth= 6,\n",
    "                objective='logistic'))\n",
    "])\n",
    "\n",
    "#fit XGB pipeline\n",
    "xgb_clf_grid.fit(X_train, y_train)\n",
    "\n",
    "#evaluate XGB pipeline\n",
    "xgb_pipeline_pred_grid  = xgb_clf_grid.predict(X_test)\n",
    "acc_score_xgb_grid_pipeline = accuracy_score(y_test, xgb_pipeline_pred_grid )\n",
    "F1_score_macro_xgb_grid_pipeline = f1_score(y_test, xgb_pipeline_pred_grid, average = 'macro')\n",
    "print(acc_score_xgb_grid_pipeline, F1_score_macro_xgb_grid_pipeline)"
   ]
  },
  {
   "cell_type": "code",
   "execution_count": 14,
   "metadata": {},
   "outputs": [],
   "source": [
    "#grid search LGR pipeline\n",
    "# parameters = pc.LGR_PARAMETERS\n",
    "\n",
    "# cv = pc.CV\n",
    "\n",
    "# gs_lgr_clf = GridSearchCV(pc.LGR_CLF, parameters, cv=cv, verbose=True)\n",
    "\n",
    "# gs_lgr_clf.fit(X_train, y_train)\n",
    "\n",
    "# # gs_xtc_clf_pred = gs_xtc_clf.predict(X_test)\n",
    "\n",
    "# best_parameters = gs_lgr_clf.best_estimator_.get_params()\n",
    "# for param_name in sorted(parameters.keys()):\n",
    "#         print(\"\\t%s: %r\" % (param_name, best_parameters[param_name]))"
   ]
  },
  {
   "cell_type": "code",
   "execution_count": 17,
   "metadata": {},
   "outputs": [
    {
     "name": "stdout",
     "output_type": "stream",
     "text": [
      "0.7375565610859729 0.6840948368206813\n"
     ]
    }
   ],
   "source": [
    "#define a LGR pipeline using result from grid search\n",
    "lgr_clf_grid = Pipeline([\n",
    "        ('vect', CountVectorizer(ngram_range = (1, 1))),\n",
    "        ('tfidf', TfidfTransformer(use_idf = True)),\n",
    "         ('clf', LogisticRegression(multi_class = 'multinomial',\n",
    "                                max_iter = 200,\n",
    "                                penalty = 'l2',)),\n",
    "])\n",
    "\n",
    "#fit LGR pipeline\n",
    "lgr_clf_grid.fit(X_train, y_train)\n",
    "\n",
    "#evaluate LGR pipeline\n",
    "lgr_pipeline_pred_grid  = lgr_clf_grid.predict(X_test)\n",
    "acc_score_lgr_grid_pipeline = accuracy_score(y_test, lgr_pipeline_pred_grid )\n",
    "F1_score_macro_lgr_grid_pipeline = f1_score(y_test, lgr_pipeline_pred_grid, average = 'macro')\n",
    "print(acc_score_lgr_grid_pipeline, F1_score_macro_lgr_grid_pipeline)"
   ]
  },
  {
   "cell_type": "markdown",
   "metadata": {},
   "source": [
    "# NLTK"
   ]
  },
  {
   "cell_type": "code",
   "execution_count": 19,
   "metadata": {},
   "outputs": [
    {
     "name": "stdout",
     "output_type": "stream",
     "text": [
      "['XGB_nltk', 0.7217194570135747, 0.7217194570135745, 0.7158928860046111, 0.6926178545099183]\n"
     ]
    }
   ],
   "source": [
    "#define a XGB pipeline using result from grid search\n",
    "xgb_clf_nltk = Pipeline([\n",
    "            ('text', pc.PROCESS_TEXT),\n",
    "          ('vect', CountVectorizer(ngram_range = (1, 1))),\n",
    "        ('tfidf', TfidfTransformer(use_idf = True)),\n",
    "         ('clf', XGBClassifier()),\n",
    "])\n",
    "\n",
    "xgb_clf_nltk.fit(X_train, y_train)\n",
    "\n",
    "xgb_nltk_pipeline_pred = xgb_clf_nltk.predict(X_test)\n",
    "acc_score_xgb_nltk_pipeline = accuracy_score(y_test, xgb_nltk_pipeline_pred)\n",
    "F1_score_micro_xgb_nltk_pipeline = f1_score(y_test, xgb_nltk_pipeline_pred, average = 'micro')\n",
    "F1_score_weighted_xgb_nltk_pipeline = f1_score(y_test, xgb_nltk_pipeline_pred, average = 'weighted')\n",
    "F1_score_macro_xgb_nltk_pipeline = f1_score(y_test, xgb_nltk_pipeline_pred, average = 'macro')\n",
    "metrics_xgb_nltk = ['XGB_nltk', acc_score_xgb_nltk_pipeline, F1_score_micro_xgb_nltk_pipeline, \n",
    "                    F1_score_weighted_xgb_nltk_pipeline, F1_score_macro_xgb_nltk_pipeline]\n",
    "print(metrics_xgb_nltk)"
   ]
  },
  {
   "cell_type": "code",
   "execution_count": 21,
   "metadata": {},
   "outputs": [
    {
     "name": "stdout",
     "output_type": "stream",
     "text": [
      "['LGR_nltk', 0.7420814479638009, 0.7420814479638009, 0.7323978758774842, 0.7002275106881226]\n"
     ]
    }
   ],
   "source": [
    "#LGR pipeline using result from grid search\n",
    "lgr_clf_nltk = Pipeline([\n",
    "        ('text', pc.PROCESS_TEXT),\n",
    "        ('vect', CountVectorizer()),\n",
    "        ('tfidf', TfidfTransformer()),\n",
    "         ('clf', LogisticRegression()),\n",
    "])\n",
    "\n",
    "lgr_clf_nltk.fit(X_train, y_train)\n",
    "\n",
    "lgr_clf_nltk_pred = lgr_clf_nltk.predict(X_test)\n",
    "acc_score_lgr_nltk_pipeline = accuracy_score(y_test, lgr_clf_nltk_pred)\n",
    "F1_score_micro_lgr_nltk_pipeline = f1_score(y_test, lgr_clf_nltk_pred, average = 'micro')\n",
    "F1_score_weighted_lgr_nltk_pipeline = f1_score(y_test, lgr_clf_nltk_pred, average = 'weighted')\n",
    "F1_score_macro_lgr_nltk_pipeline = f1_score(y_test, lgr_clf_nltk_pred, average = 'macro')\n",
    "metrics_lgr_nltk = ['LGR_nltk', acc_score_lgr_nltk_pipeline, F1_score_micro_lgr_nltk_pipeline, \n",
    "                    F1_score_weighted_lgr_nltk_pipeline, F1_score_macro_lgr_nltk_pipeline]\n",
    "print(metrics_lgr_nltk)"
   ]
  },
  {
   "cell_type": "code",
   "execution_count": 35,
   "metadata": {},
   "outputs": [
    {
     "data": {
      "text/html": [
       "<div>\n",
       "<style scoped>\n",
       "    .dataframe tbody tr th:only-of-type {\n",
       "        vertical-align: middle;\n",
       "    }\n",
       "\n",
       "    .dataframe tbody tr th {\n",
       "        vertical-align: top;\n",
       "    }\n",
       "\n",
       "    .dataframe thead th {\n",
       "        text-align: right;\n",
       "    }\n",
       "</style>\n",
       "<table border=\"1\" class=\"dataframe\">\n",
       "  <thead>\n",
       "    <tr style=\"text-align: right;\">\n",
       "      <th></th>\n",
       "      <th>classifier</th>\n",
       "      <th>accuracy</th>\n",
       "      <th>micro_f1</th>\n",
       "      <th>weighted_f1</th>\n",
       "      <th>macro_f1</th>\n",
       "    </tr>\n",
       "  </thead>\n",
       "  <tbody>\n",
       "    <tr>\n",
       "      <th>0</th>\n",
       "      <td>dummy</td>\n",
       "      <td>0.386878</td>\n",
       "      <td>0.386878</td>\n",
       "      <td>0.215844</td>\n",
       "      <td>0.111582</td>\n",
       "    </tr>\n",
       "    <tr>\n",
       "      <th>1</th>\n",
       "      <td>MNB</td>\n",
       "      <td>0.488688</td>\n",
       "      <td>0.488688</td>\n",
       "      <td>0.389033</td>\n",
       "      <td>0.290649</td>\n",
       "    </tr>\n",
       "    <tr>\n",
       "      <th>2</th>\n",
       "      <td>BGC</td>\n",
       "      <td>0.619910</td>\n",
       "      <td>0.619910</td>\n",
       "      <td>0.604388</td>\n",
       "      <td>0.573869</td>\n",
       "    </tr>\n",
       "    <tr>\n",
       "      <th>3</th>\n",
       "      <td>XTC</td>\n",
       "      <td>0.660633</td>\n",
       "      <td>0.660633</td>\n",
       "      <td>0.632979</td>\n",
       "      <td>0.602372</td>\n",
       "    </tr>\n",
       "    <tr>\n",
       "      <th>4</th>\n",
       "      <td>RFC</td>\n",
       "      <td>0.683258</td>\n",
       "      <td>0.683258</td>\n",
       "      <td>0.656779</td>\n",
       "      <td>0.629311</td>\n",
       "    </tr>\n",
       "    <tr>\n",
       "      <th>5</th>\n",
       "      <td>SVM</td>\n",
       "      <td>0.696833</td>\n",
       "      <td>0.696833</td>\n",
       "      <td>0.692081</td>\n",
       "      <td>0.656526</td>\n",
       "    </tr>\n",
       "    <tr>\n",
       "      <th>6</th>\n",
       "      <td>GBC</td>\n",
       "      <td>0.703620</td>\n",
       "      <td>0.703620</td>\n",
       "      <td>0.694426</td>\n",
       "      <td>0.667811</td>\n",
       "    </tr>\n",
       "    <tr>\n",
       "      <th>7</th>\n",
       "      <td>XGB</td>\n",
       "      <td>0.719457</td>\n",
       "      <td>0.719457</td>\n",
       "      <td>0.711486</td>\n",
       "      <td>0.683836</td>\n",
       "    </tr>\n",
       "    <tr>\n",
       "      <th>8</th>\n",
       "      <td>LGR</td>\n",
       "      <td>0.737557</td>\n",
       "      <td>0.737557</td>\n",
       "      <td>0.724880</td>\n",
       "      <td>0.684095</td>\n",
       "    </tr>\n",
       "    <tr>\n",
       "      <th>9</th>\n",
       "      <td>XGB_nltk</td>\n",
       "      <td>0.721719</td>\n",
       "      <td>0.721719</td>\n",
       "      <td>0.715893</td>\n",
       "      <td>0.692618</td>\n",
       "    </tr>\n",
       "    <tr>\n",
       "      <th>10</th>\n",
       "      <td>LGR_nltk</td>\n",
       "      <td>0.742081</td>\n",
       "      <td>0.742081</td>\n",
       "      <td>0.732398</td>\n",
       "      <td>0.700228</td>\n",
       "    </tr>\n",
       "  </tbody>\n",
       "</table>\n",
       "</div>"
      ],
      "text/plain": [
       "   classifier  accuracy  micro_f1  weighted_f1  macro_f1\n",
       "0       dummy  0.386878  0.386878     0.215844  0.111582\n",
       "1         MNB  0.488688  0.488688     0.389033  0.290649\n",
       "2         BGC  0.619910  0.619910     0.604388  0.573869\n",
       "3         XTC  0.660633  0.660633     0.632979  0.602372\n",
       "4         RFC  0.683258  0.683258     0.656779  0.629311\n",
       "5         SVM  0.696833  0.696833     0.692081  0.656526\n",
       "6         GBC  0.703620  0.703620     0.694426  0.667811\n",
       "7         XGB  0.719457  0.719457     0.711486  0.683836\n",
       "8         LGR  0.737557  0.737557     0.724880  0.684095\n",
       "9    XGB_nltk  0.721719  0.721719     0.715893  0.692618\n",
       "10   LGR_nltk  0.742081  0.742081     0.732398  0.700228"
      ]
     },
     "execution_count": 35,
     "metadata": {},
     "output_type": "execute_result"
    }
   ],
   "source": [
    "model_metrics.loc[len(model_metrics.index)] = metrics_xgb_nltk\n",
    "model_metrics.loc[len(model_metrics.index)] = metrics_lgr_nltk\n",
    "model_metrics"
   ]
  },
  {
   "cell_type": "markdown",
   "metadata": {},
   "source": [
    "## Journey Map"
   ]
  },
  {
   "cell_type": "code",
   "execution_count": 39,
   "metadata": {},
   "outputs": [
    {
     "data": {
      "text/plain": [
       "<function matplotlib.pyplot.show(close=None, block=None)>"
      ]
     },
     "execution_count": 39,
     "metadata": {},
     "output_type": "execute_result"
    },
    {
     "data": {
      "image/png": "[encoded data removed]",
      "text/plain": [
       "<Figure size 720x432 with 1 Axes>"
      ]
     },
     "metadata": {
      "needs_background": "light"
     },
     "output_type": "display_data"
    }
   ],
   "source": [
    "plt.figure(figsize=(10,6))\n",
    "metrics = ['accuracy', 'weighted_f1', 'macro_f1']\n",
    "for metric in metrics:\n",
    "    sns.lineplot(data=model_metrics,\n",
    "        x='classifier',  y=metric,\n",
    "        marker='o', markersize=10,\n",
    "    )\n",
    "#plt.gcf().axes[0].yaxis.set_major_formatter(StrMethodFormatter('{x:.0%}'))\n",
    "plt.legend(title='Accuracy Measure', labels = metrics, loc='upper left')\n",
    "plt.tight_layout()\n",
    "plt.show"
   ]
  }
 ],
 "metadata": {
  "interpreter": {
   "hash": "854efcab732a5d437ca0340710709aff5ccd7f52f8ea9fe4eaa56ad87e85c518"
  },
  "kernelspec": {
   "display_name": "Python 3.10.4 ('complaints_classification': venv)",
   "language": "python",
   "name": "python3"
  },
  "language_info": {
   "codemirror_mode": {
    "name": "ipython",
    "version": 3
   },
   "file_extension": ".py",
   "mimetype": "text/x-python",
   "name": "python",
   "nbconvert_exporter": "python",
   "pygments_lexer": "ipython3",
   "version": "3.10.4"
  },
  "orig_nbformat": 4
 },
 "nbformat": 4,
 "nbformat_minor": 2
}
